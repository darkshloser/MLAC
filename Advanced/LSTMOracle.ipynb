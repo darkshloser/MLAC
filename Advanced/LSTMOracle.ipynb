{
 "cells": [
  {
   "cell_type": "markdown",
   "id": "670c4b66",
   "metadata": {},
   "source": [
    "# Declarations"
   ]
  },
  {
   "cell_type": "code",
   "execution_count": 3,
   "id": "3f6a7568",
   "metadata": {},
   "outputs": [],
   "source": [
    "import numpy as np\n",
    "from keras.models import Sequential\n",
    "from keras.layers import LSTM, Dense, Dropout\n",
    "import pandas as pd\n",
    "from matplotlib import pyplot as plt\n",
    "from sklearn.preprocessing import StandardScaler\n",
    "import yfinance as yf"
   ]
  },
  {
   "cell_type": "code",
   "execution_count": 2,
   "id": "06ede8d6",
   "metadata": {},
   "outputs": [],
   "source": [
    "import seaborn as sns\n",
    "sns.set_theme(style='darkgrid')"
   ]
  },
  {
   "cell_type": "code",
   "execution_count": 4,
   "id": "2a8e26cc",
   "metadata": {},
   "outputs": [
    {
     "name": "stdout",
     "output_type": "stream",
     "text": [
      "[*********************100%***********************]  1 of 1 completed\n"
     ]
    }
   ],
   "source": [
    "stock_symbol = 'GE'\n",
    "df = yf.download(tickers=stock_symbol,period='5y',interval='1d')"
   ]
  },
  {
   "cell_type": "code",
   "execution_count": 30,
   "id": "bf827c17",
   "metadata": {},
   "outputs": [],
   "source": [
    "# Separate dates for future plotting\n",
    "train_dates_df = pd.to_datetime(df.index).to_frame()\n",
    "train_dates_dt = pd.to_datetime(df.index)\n",
    "train_dates_sr = pd.to_datetime(df.index).to_series()\n",
    "# #Separate dates for future plotting\n",
    "# train_dates = pd.to_datetime(df.index)\n",
    "# #Variables for training\n",
    "# cols = list(df)[1:6]\n",
    "# #Date and volume columns |are not used in training. \n",
    "# print(cols) #['Open', 'High', 'Low', 'Close', 'Adj Close']\n",
    "# # print(train_dates.tail(15)) #Check last few dates.\n",
    "# ddf = pd.to_datetime(df.index)\n",
    "# ddf = ddf.to_frame()\n",
    "# ddf"
   ]
  },
  {
   "cell_type": "code",
   "execution_count": 61,
   "id": "afd6a157",
   "metadata": {},
   "outputs": [],
   "source": [
    "# Variables for training \n",
    "cols = list(df[[\"Open\",\"Close\",\"Volume\"]])\n",
    "df_for_training = df[cols].astype(float)"
   ]
  },
  {
   "cell_type": "code",
   "execution_count": 62,
   "id": "dc0da089",
   "metadata": {
    "scrolled": false
   },
   "outputs": [
    {
     "data": {
      "text/plain": [
       "array([[ 3.50035515,  3.55351149, -0.45050371],\n",
       "       [ 3.55324668,  3.71818543, -0.36916046],\n",
       "       [ 3.68129869,  3.60933294, -0.69577741],\n",
       "       ...,\n",
       "       [-0.5864077 , -0.53920263, -0.85161715],\n",
       "       [-0.51692517, -0.57258427, -0.95908714],\n",
       "       [-0.56577987, -0.62338187, -1.28717507]])"
      ]
     },
     "execution_count": 62,
     "metadata": {},
     "output_type": "execute_result"
    }
   ],
   "source": [
    "scaler = StandardScaler()\n",
    "scaler = scaler.fit(df_for_training)\n",
    "df_for_training_scaled = scaler.transform(df_for_training)\n",
    "df_for_training_scaled"
   ]
  },
  {
   "cell_type": "code",
   "execution_count": 68,
   "id": "fb61f995",
   "metadata": {},
   "outputs": [],
   "source": [
    "n_future = 1   # Number of days we want to look into the future based on the past days.\n",
    "n_past = 60  # Number of past days we want to use to predict the future."
   ]
  },
  {
   "cell_type": "code",
   "execution_count": 70,
   "id": "e7b278e7",
   "metadata": {},
   "outputs": [
    {
     "name": "stdout",
     "output_type": "stream",
     "text": [
      "<class 'numpy.ndarray'>\n",
      "trainX shape == (1199, 60, 3).\n",
      "trainY shape == (1199, 1).\n"
     ]
    }
   ],
   "source": [
    "#Empty lists to be populated using formatted training data\n",
    "trainX = []\n",
    "trainY = []\n",
    "#Reformat input data into a shape: (n_samples x timesteps x n_features)\n",
    "#In my example, my df_for_training_scaled has a shape (12823, 5)\n",
    "#12823 refers to the number of data points and 5 refers to the columns (multi-variables).\n",
    "for i in range(n_past, len(df_for_training_scaled) - n_future +1):\n",
    "    trainX.append(df_for_training_scaled[i - n_past:i, 0:df_for_training.shape[1]])\n",
    "    trainY.append(df_for_training_scaled[i + n_future - 1:i + n_future, 0])\n",
    "\n",
    "trainX, trainY = np.array(trainX), np.array(trainY)\n",
    "\n",
    "print(type(trainY))\n",
    "print('trainX shape == {}.'.format(trainX.shape))\n",
    "print('trainY shape == {}.'.format(trainY.shape))\n"
   ]
  },
  {
   "cell_type": "code",
   "execution_count": 105,
   "id": "2a1c80a0",
   "metadata": {},
   "outputs": [],
   "source": [
    "#In my case, trainX has a shape (12809, 14, 5). \n",
    "#12809 because we are looking back 14 days (12823 - 14 = 12809). \n",
    "#Remember that we cannot look back 14 days until we get to the 15th day. \n",
    "#Also, trainY has a shape (12809, 1). Our model only predicts a single value, but \n",
    "#it needs multiple variables (5 in my example) to make this prediction. \n",
    "#This is why we can only predict a single day after our training, the day after where our data ends.\n",
    "#To predict more days in future, we need all the 5 variables which we do not have. \n",
    "#We need to predict all variables if we want to do that. \n",
    "\n",
    "# define the Autoencoder model"
   ]
  },
  {
   "cell_type": "code",
   "execution_count": 76,
   "id": "365cc4c1",
   "metadata": {},
   "outputs": [
    {
     "name": "stdout",
     "output_type": "stream",
     "text": [
      "Model: \"sequential_2\"\n",
      "_________________________________________________________________\n",
      " Layer (type)                Output Shape              Param #   \n",
      "=================================================================\n",
      " lstm_6 (LSTM)               (None, 60, 50)            10800     \n",
      "                                                                 \n",
      " dropout_6 (Dropout)         (None, 60, 50)            0         \n",
      "                                                                 \n",
      " lstm_7 (LSTM)               (None, 60, 50)            20200     \n",
      "                                                                 \n",
      " dropout_7 (Dropout)         (None, 60, 50)            0         \n",
      "                                                                 \n",
      " lstm_8 (LSTM)               (None, 50)                20200     \n",
      "                                                                 \n",
      " dropout_8 (Dropout)         (None, 50)                0         \n",
      "                                                                 \n",
      " dense_2 (Dense)             (None, 1)                 51        \n",
      "                                                                 \n",
      "=================================================================\n",
      "Total params: 51,251\n",
      "Trainable params: 51,251\n",
      "Non-trainable params: 0\n",
      "_________________________________________________________________\n"
     ]
    }
   ],
   "source": [
    "model = Sequential()\n",
    "model.add(LSTM(50, activation='relu', input_shape=(trainX.shape[1], trainX.shape[2]), return_sequences=True))\n",
    "model.add(Dropout(0.2))\n",
    "model.add(LSTM(50, activation='relu', return_sequences=True))\n",
    "model.add(Dropout(0.2))\n",
    "model.add(LSTM(50, activation='relu', return_sequences=False))\n",
    "model.add(Dropout(0.2))\n",
    "model.add(Dense(trainY.shape[1]))\n",
    "\n",
    "model.compile(optimizer='adam', loss='mse')\n",
    "model.summary()\n"
   ]
  },
  {
   "cell_type": "code",
   "execution_count": 77,
   "id": "d10f39ec",
   "metadata": {},
   "outputs": [
    {
     "name": "stdout",
     "output_type": "stream",
     "text": [
      "Epoch 1/100\n",
      "16/16 [==============================] - 5s 110ms/step - loss: 5.7300 - val_loss: 0.1091\n",
      "Epoch 2/100\n",
      "16/16 [==============================] - 1s 84ms/step - loss: 0.1782 - val_loss: 0.0536\n",
      "Epoch 3/100\n",
      "16/16 [==============================] - 1s 86ms/step - loss: 0.1736 - val_loss: 0.0574\n",
      "Epoch 4/100\n",
      "16/16 [==============================] - 1s 87ms/step - loss: 0.1183 - val_loss: 0.0845\n",
      "Epoch 5/100\n",
      "16/16 [==============================] - 1s 85ms/step - loss: 0.0797 - val_loss: 0.0496\n",
      "Epoch 6/100\n",
      "16/16 [==============================] - 1s 84ms/step - loss: 0.0645 - val_loss: 0.0443\n",
      "Epoch 7/100\n",
      "16/16 [==============================] - 1s 84ms/step - loss: 0.0635 - val_loss: 0.0388\n",
      "Epoch 8/100\n",
      "16/16 [==============================] - 1s 85ms/step - loss: 0.0609 - val_loss: 0.0360\n",
      "Epoch 9/100\n",
      "16/16 [==============================] - 1s 86ms/step - loss: 0.0584 - val_loss: 0.0325\n",
      "Epoch 10/100\n",
      "16/16 [==============================] - 1s 92ms/step - loss: 0.0584 - val_loss: 0.0323\n",
      "Epoch 11/100\n",
      "16/16 [==============================] - 1s 84ms/step - loss: 0.0528 - val_loss: 0.0341\n",
      "Epoch 12/100\n",
      "16/16 [==============================] - 1s 92ms/step - loss: 0.0581 - val_loss: 0.0274\n",
      "Epoch 13/100\n",
      "16/16 [==============================] - 1s 92ms/step - loss: 0.0503 - val_loss: 0.0289\n",
      "Epoch 14/100\n",
      "16/16 [==============================] - 1s 90ms/step - loss: 0.0484 - val_loss: 0.0293\n",
      "Epoch 15/100\n",
      "16/16 [==============================] - 1s 86ms/step - loss: 0.0471 - val_loss: 0.0272\n",
      "Epoch 16/100\n",
      "16/16 [==============================] - 1s 85ms/step - loss: 0.0456 - val_loss: 0.0276\n",
      "Epoch 17/100\n",
      "16/16 [==============================] - 1s 86ms/step - loss: 0.0461 - val_loss: 0.0210\n",
      "Epoch 18/100\n",
      "16/16 [==============================] - 1s 86ms/step - loss: 0.0437 - val_loss: 0.0235\n",
      "Epoch 19/100\n",
      "16/16 [==============================] - 1s 85ms/step - loss: 0.0457 - val_loss: 0.0233\n",
      "Epoch 20/100\n",
      "16/16 [==============================] - 1s 90ms/step - loss: 0.0435 - val_loss: 0.0218\n",
      "Epoch 21/100\n",
      "16/16 [==============================] - 1s 85ms/step - loss: 0.0401 - val_loss: 0.0187\n",
      "Epoch 22/100\n",
      "16/16 [==============================] - 1s 86ms/step - loss: 0.0425 - val_loss: 0.0181\n",
      "Epoch 23/100\n",
      "16/16 [==============================] - 1s 86ms/step - loss: 0.0434 - val_loss: 0.0211\n",
      "Epoch 24/100\n",
      "16/16 [==============================] - 1s 84ms/step - loss: 0.0425 - val_loss: 0.0164\n",
      "Epoch 25/100\n",
      "16/16 [==============================] - 1s 85ms/step - loss: 0.0399 - val_loss: 0.0189\n",
      "Epoch 26/100\n",
      "16/16 [==============================] - 1s 84ms/step - loss: 0.0410 - val_loss: 0.0201\n",
      "Epoch 27/100\n",
      "16/16 [==============================] - 1s 85ms/step - loss: 0.0353 - val_loss: 0.0192\n",
      "Epoch 28/100\n",
      "16/16 [==============================] - 1s 85ms/step - loss: 0.0349 - val_loss: 0.0167\n",
      "Epoch 29/100\n",
      "16/16 [==============================] - 1s 86ms/step - loss: 0.0347 - val_loss: 0.0161\n",
      "Epoch 30/100\n",
      "16/16 [==============================] - 1s 85ms/step - loss: 0.0374 - val_loss: 0.0158\n",
      "Epoch 31/100\n",
      "16/16 [==============================] - 1s 85ms/step - loss: 0.0381 - val_loss: 0.0174\n",
      "Epoch 32/100\n",
      "16/16 [==============================] - 1s 86ms/step - loss: 0.0372 - val_loss: 0.0166\n",
      "Epoch 33/100\n",
      "16/16 [==============================] - 1s 92ms/step - loss: 0.0350 - val_loss: 0.0176\n",
      "Epoch 34/100\n",
      "16/16 [==============================] - 2s 100ms/step - loss: 0.0361 - val_loss: 0.0148\n",
      "Epoch 35/100\n",
      "16/16 [==============================] - 1s 90ms/step - loss: 0.0328 - val_loss: 0.0161\n",
      "Epoch 36/100\n",
      "16/16 [==============================] - 1s 85ms/step - loss: 0.0326 - val_loss: 0.0129\n",
      "Epoch 37/100\n",
      "16/16 [==============================] - 2s 135ms/step - loss: 0.0294 - val_loss: 0.0138\n",
      "Epoch 38/100\n",
      "16/16 [==============================] - 2s 109ms/step - loss: 0.0347 - val_loss: 0.0202\n",
      "Epoch 39/100\n",
      "16/16 [==============================] - 1s 89ms/step - loss: 0.0345 - val_loss: 0.0143\n",
      "Epoch 40/100\n",
      "16/16 [==============================] - 1s 87ms/step - loss: 0.0326 - val_loss: 0.0154\n",
      "Epoch 41/100\n",
      "16/16 [==============================] - 2s 94ms/step - loss: 0.0303 - val_loss: 0.0164\n",
      "Epoch 42/100\n",
      "16/16 [==============================] - 1s 84ms/step - loss: 0.0317 - val_loss: 0.0146\n",
      "Epoch 43/100\n",
      "16/16 [==============================] - 1s 85ms/step - loss: 0.0306 - val_loss: 0.0173\n",
      "Epoch 44/100\n",
      "16/16 [==============================] - 1s 86ms/step - loss: 0.0321 - val_loss: 0.0144\n",
      "Epoch 45/100\n",
      "16/16 [==============================] - 1s 84ms/step - loss: 0.0313 - val_loss: 0.0126\n",
      "Epoch 46/100\n",
      "16/16 [==============================] - 1s 86ms/step - loss: 0.0309 - val_loss: 0.0191\n",
      "Epoch 47/100\n",
      "16/16 [==============================] - 1s 85ms/step - loss: 0.0298 - val_loss: 0.0143\n",
      "Epoch 48/100\n",
      "16/16 [==============================] - 1s 86ms/step - loss: 0.0284 - val_loss: 0.0198\n",
      "Epoch 49/100\n",
      "16/16 [==============================] - 1s 85ms/step - loss: 0.0286 - val_loss: 0.0131\n",
      "Epoch 50/100\n",
      "16/16 [==============================] - 1s 85ms/step - loss: 0.0284 - val_loss: 0.0135\n",
      "Epoch 51/100\n",
      "16/16 [==============================] - 1s 85ms/step - loss: 0.0303 - val_loss: 0.0151\n",
      "Epoch 52/100\n",
      "16/16 [==============================] - 1s 85ms/step - loss: 0.0279 - val_loss: 0.0132\n",
      "Epoch 53/100\n",
      "16/16 [==============================] - 1s 88ms/step - loss: 0.0289 - val_loss: 0.0126\n",
      "Epoch 54/100\n",
      "16/16 [==============================] - 2s 121ms/step - loss: 0.0285 - val_loss: 0.0149\n",
      "Epoch 55/100\n",
      "16/16 [==============================] - 2s 95ms/step - loss: 0.0287 - val_loss: 0.0186\n",
      "Epoch 56/100\n",
      "16/16 [==============================] - 1s 92ms/step - loss: 0.0275 - val_loss: 0.0148\n",
      "Epoch 57/100\n",
      "16/16 [==============================] - 1s 86ms/step - loss: 0.0243 - val_loss: 0.0105\n",
      "Epoch 58/100\n",
      "16/16 [==============================] - 1s 92ms/step - loss: 0.0262 - val_loss: 0.0134\n",
      "Epoch 59/100\n",
      "16/16 [==============================] - 1s 86ms/step - loss: 0.0279 - val_loss: 0.0112\n",
      "Epoch 60/100\n",
      "16/16 [==============================] - 1s 86ms/step - loss: 0.0279 - val_loss: 0.0155\n",
      "Epoch 61/100\n",
      "16/16 [==============================] - 1s 87ms/step - loss: 0.0264 - val_loss: 0.0135\n",
      "Epoch 62/100\n",
      "16/16 [==============================] - 1s 85ms/step - loss: 0.0263 - val_loss: 0.0161\n",
      "Epoch 63/100\n",
      "16/16 [==============================] - 1s 85ms/step - loss: 0.0258 - val_loss: 0.0185\n",
      "Epoch 64/100\n",
      "16/16 [==============================] - 1s 87ms/step - loss: 0.0259 - val_loss: 0.0180\n",
      "Epoch 65/100\n",
      "16/16 [==============================] - 1s 89ms/step - loss: 0.0253 - val_loss: 0.0123\n",
      "Epoch 66/100\n",
      "16/16 [==============================] - 1s 86ms/step - loss: 0.0248 - val_loss: 0.0144\n",
      "Epoch 67/100\n",
      "16/16 [==============================] - 2s 99ms/step - loss: 0.0261 - val_loss: 0.0127\n",
      "Epoch 68/100\n",
      "16/16 [==============================] - 1s 86ms/step - loss: 0.0243 - val_loss: 0.0187\n",
      "Epoch 69/100\n",
      "16/16 [==============================] - 1s 91ms/step - loss: 0.0257 - val_loss: 0.0118\n",
      "Epoch 70/100\n",
      "16/16 [==============================] - 1s 91ms/step - loss: 0.0259 - val_loss: 0.0154\n",
      "Epoch 71/100\n",
      "16/16 [==============================] - 1s 92ms/step - loss: 0.0255 - val_loss: 0.0211\n",
      "Epoch 72/100\n",
      "16/16 [==============================] - 1s 92ms/step - loss: 0.0282 - val_loss: 0.0181\n",
      "Epoch 73/100\n",
      "16/16 [==============================] - 1s 90ms/step - loss: 0.0261 - val_loss: 0.0191\n",
      "Epoch 74/100\n",
      "16/16 [==============================] - 1s 86ms/step - loss: 0.0252 - val_loss: 0.0104\n",
      "Epoch 75/100\n",
      "16/16 [==============================] - 1s 85ms/step - loss: 0.0239 - val_loss: 0.0133\n",
      "Epoch 76/100\n",
      "16/16 [==============================] - 1s 86ms/step - loss: 0.0254 - val_loss: 0.0152\n",
      "Epoch 77/100\n",
      "16/16 [==============================] - 1s 93ms/step - loss: 0.0236 - val_loss: 0.0170\n",
      "Epoch 78/100\n",
      "16/16 [==============================] - 1s 91ms/step - loss: 0.0226 - val_loss: 0.0232\n",
      "Epoch 79/100\n",
      "16/16 [==============================] - 1s 89ms/step - loss: 0.0263 - val_loss: 0.0140\n",
      "Epoch 80/100\n",
      "16/16 [==============================] - 1s 91ms/step - loss: 0.0226 - val_loss: 0.0143\n",
      "Epoch 81/100\n",
      "16/16 [==============================] - 1s 92ms/step - loss: 0.0242 - val_loss: 0.0164\n",
      "Epoch 82/100\n",
      "16/16 [==============================] - 1s 91ms/step - loss: 0.0252 - val_loss: 0.0095\n",
      "Epoch 83/100\n",
      "16/16 [==============================] - 1s 89ms/step - loss: 0.0241 - val_loss: 0.0186\n",
      "Epoch 84/100\n",
      "16/16 [==============================] - 1s 84ms/step - loss: 0.0242 - val_loss: 0.0134\n",
      "Epoch 85/100\n",
      "16/16 [==============================] - 1s 92ms/step - loss: 0.0243 - val_loss: 0.0217\n",
      "Epoch 86/100\n",
      "16/16 [==============================] - 1s 84ms/step - loss: 0.0222 - val_loss: 0.0143\n",
      "Epoch 87/100\n",
      "16/16 [==============================] - 1s 84ms/step - loss: 0.0233 - val_loss: 0.0107\n",
      "Epoch 88/100\n",
      "16/16 [==============================] - 1s 84ms/step - loss: 0.0227 - val_loss: 0.0169\n",
      "Epoch 89/100\n",
      "16/16 [==============================] - 1s 85ms/step - loss: 0.0237 - val_loss: 0.0152\n",
      "Epoch 90/100\n",
      "16/16 [==============================] - 1s 84ms/step - loss: 0.0252 - val_loss: 0.0112\n",
      "Epoch 91/100\n",
      "16/16 [==============================] - 1s 85ms/step - loss: 0.0226 - val_loss: 0.0132\n",
      "Epoch 92/100\n",
      "16/16 [==============================] - 1s 84ms/step - loss: 0.0208 - val_loss: 0.0149\n",
      "Epoch 93/100\n",
      "16/16 [==============================] - 2s 100ms/step - loss: 0.0230 - val_loss: 0.0162\n",
      "Epoch 94/100\n",
      "16/16 [==============================] - 2s 98ms/step - loss: 0.0226 - val_loss: 0.0130\n",
      "Epoch 95/100\n",
      "16/16 [==============================] - 1s 85ms/step - loss: 0.0217 - val_loss: 0.0126\n",
      "Epoch 96/100\n",
      "16/16 [==============================] - 1s 91ms/step - loss: 0.0217 - val_loss: 0.0211\n",
      "Epoch 97/100\n",
      "16/16 [==============================] - 2s 97ms/step - loss: 0.0219 - val_loss: 0.0198\n",
      "Epoch 98/100\n",
      "16/16 [==============================] - 1s 91ms/step - loss: 0.0224 - val_loss: 0.0174\n",
      "Epoch 99/100\n",
      "16/16 [==============================] - 2s 98ms/step - loss: 0.0233 - val_loss: 0.0221\n",
      "Epoch 100/100\n",
      "16/16 [==============================] - 2s 95ms/step - loss: 0.0237 - val_loss: 0.0215\n"
     ]
    }
   ],
   "source": [
    "# fit the model\n",
    "history = model.fit(trainX, trainY, epochs=100, batch_size=70, validation_split=0.1, verbose=1)"
   ]
  },
  {
   "cell_type": "code",
   "execution_count": 87,
   "id": "70c8f356",
   "metadata": {},
   "outputs": [
    {
     "data": {
      "text/plain": [
       "<matplotlib.legend.Legend at 0x7f1f6c464580>"
      ]
     },
     "execution_count": 87,
     "metadata": {},
     "output_type": "execute_result"
    },
    {
     "data": {
      "image/png": "[encoded data removed]",
      "text/plain": [
       "<Figure size 432x288 with 1 Axes>"
      ]
     },
     "metadata": {
      "needs_background": "light"
     },
     "output_type": "display_data"
    }
   ],
   "source": [
    "plt.plot(history.history['loss'], label='Training loss')\n",
    "plt.plot(history.history['val_loss'], label='Validation loss')\n",
    "plt.legend()"
   ]
  },
  {
   "cell_type": "code",
   "execution_count": 88,
   "id": "f17141da",
   "metadata": {},
   "outputs": [],
   "source": [
    "n_future = 30\n",
    "forecast_period_dates = pd.date_range(list(train_dates_sr)[-1], periods=n_future, freq='1d')"
   ]
  },
  {
   "cell_type": "code",
   "execution_count": 94,
   "id": "8bc5dd04",
   "metadata": {},
   "outputs": [
    {
     "name": "stdout",
     "output_type": "stream",
     "text": [
      "1/1 [==============================] - 0s 404ms/step\n"
     ]
    }
   ],
   "source": [
    "forecast = model.predict(trainX[-n_future:])"
   ]
  },
  {
   "cell_type": "code",
   "execution_count": 98,
   "id": "9ee399af",
   "metadata": {},
   "outputs": [],
   "source": [
    "# Function to copy value 'N' number of times exactly the number of Columns which we have in 'cols'\n",
    "forecast_copies = np.repeat(forecast, df_for_training.shape[1], axis=-1)"
   ]
  },
  {
   "cell_type": "code",
   "execution_count": 99,
   "id": "0e88e095",
   "metadata": {},
   "outputs": [],
   "source": [
    "# Forecast Prices\n",
    "y_pred_future = scaler.inverse_transform(forecast_copies)[:,0]"
   ]
  },
  {
   "cell_type": "code",
   "execution_count": 100,
   "id": "b9e5fb28",
   "metadata": {},
   "outputs": [
    {
     "data": {
      "text/plain": [
       "array([68.4583  , 69.578415, 70.69661 , 71.626656, 73.1523  , 74.134766,\n",
       "       75.12029 , 75.7733  , 76.41643 , 76.88499 , 77.24687 , 77.445625,\n",
       "       77.5525  , 77.75331 , 77.97968 , 78.49922 , 79.2564  , 80.0983  ,\n",
       "       80.9298  , 81.70931 , 82.32049 , 82.63156 , 82.515884, 81.800674,\n",
       "       80.85483 , 80.01808 , 79.56309 , 79.24584 , 79.01135 , 78.86135 ],\n",
       "      dtype=float32)"
      ]
     },
     "execution_count": 100,
     "metadata": {},
     "output_type": "execute_result"
    }
   ],
   "source": [
    "# Real prediction prices for the specified 'n_future' period of time\n",
    "y_pred_future"
   ]
  },
  {
   "cell_type": "code",
   "execution_count": 101,
   "id": "c04595c9",
   "metadata": {},
   "outputs": [],
   "source": [
    "# rework Dates to apply them on the predictions \n",
    "forecast_dates = []\n",
    "for time_i in forecast_period_dates:\n",
    "    forecast_dates.append(time_i.date())"
   ]
  },
  {
   "cell_type": "code",
   "execution_count": 104,
   "id": "7101984f",
   "metadata": {},
   "outputs": [],
   "source": [
    "df_forecast = pd.DataFrame({'Date':np.array(forecast_dates), 'Open':y_pred_future})\n",
    "df_forecast['Date']=pd.to_datetime(df_forecast['Date'])"
   ]
  },
  {
   "cell_type": "code",
   "execution_count": 114,
   "id": "d88fa5ff",
   "metadata": {},
   "outputs": [
    {
     "name": "stderr",
     "output_type": "stream",
     "text": [
      "/media/dobromir/data/sendbox/MLAC/.venv/lib/python3.8/site-packages/seaborn/_decorators.py:36: FutureWarning: Pass the following variables as keyword args: x, y. From version 0.12, the only valid positional argument will be `data`, and passing other arguments without an explicit keyword will result in an error or misinterpretation.\n",
      "  warnings.warn(\n",
      "/media/dobromir/data/sendbox/MLAC/.venv/lib/python3.8/site-packages/seaborn/_decorators.py:36: FutureWarning: Pass the following variables as keyword args: x, y. From version 0.12, the only valid positional argument will be `data`, and passing other arguments without an explicit keyword will result in an error or misinterpretation.\n",
      "  warnings.warn(\n"
     ]
    },
    {
     "data": {
      "text/plain": [
       "<AxesSubplot:xlabel='Date', ylabel='Open'>"
      ]
     },
     "execution_count": 114,
     "metadata": {},
     "output_type": "execute_result"
    },
    {
     "data": {
      "image/png": "[encoded data removed]",
      "text/plain": [
       "<Figure size 432x288 with 1 Axes>"
      ]
     },
     "metadata": {
      "needs_background": "light"
     },
     "output_type": "display_data"
    }
   ],
   "source": [
    "visualization_history = 100\n",
    "sns.lineplot(df.index[-visualization_history:], df['Open'][-visualization_history:])\n",
    "sns.lineplot(df_forecast['Date'], df_forecast['Open'])"
   ]
  },
  {
   "cell_type": "code",
   "execution_count": null,
   "id": "01548154",
   "metadata": {},
   "outputs": [],
   "source": []
  },
  {
   "cell_type": "code",
   "execution_count": null,
   "id": "43b1d30f",
   "metadata": {},
   "outputs": [],
   "source": []
  },
  {
   "cell_type": "code",
   "execution_count": 109,
   "id": "0180c8bd",
   "metadata": {},
   "outputs": [],
   "source": [
    "#Predicting...\n",
    "#Libraries that will help us extract only business days in the US.\n",
    "#Otherwise our dates would be wrong when we look back (or forward).  \n",
    "from pandas.tseries.holiday import USFederalHolidayCalendar\n",
    "from pandas.tseries.offsets import CustomBusinessDay\n",
    "us_bd = CustomBusinessDay(calendar=USFederalHolidayCalendar())"
   ]
  },
  {
   "cell_type": "code",
   "execution_count": 110,
   "id": "a2aac6e4",
   "metadata": {},
   "outputs": [],
   "source": [
    "#Remember that we can only predict one day in future as our model needs 5 variables\n",
    "#as inputs for prediction. We only have all 5 variables until the last day in our dataset.\n",
    "n_past = 16\n",
    "n_days_for_prediction=15  #let us predict past 15 days\n",
    "\n",
    "predict_period_dates = pd.date_range(list(train_dates)[-n_past], periods=n_days_for_prediction, freq=us_bd).tolist()"
   ]
  },
  {
   "cell_type": "code",
   "execution_count": 117,
   "id": "4a68fa1b",
   "metadata": {},
   "outputs": [
    {
     "name": "stdout",
     "output_type": "stream",
     "text": [
      "1/1 [==============================] - 0s 99ms/step\n"
     ]
    }
   ],
   "source": [
    "#Make prediction\n",
    "prediction = model.predict(trainX[-n_days_for_prediction:]) #shape = (n, 1) where n is the n_days_for_prediction"
   ]
  },
  {
   "cell_type": "code",
   "execution_count": 118,
   "id": "6664b6c6",
   "metadata": {},
   "outputs": [
    {
     "ename": "ValueError",
     "evalue": "Found array with dim 3. None expected <= 2.",
     "output_type": "error",
     "traceback": [
      "\u001b[0;31m---------------------------------------------------------------------------\u001b[0m",
      "\u001b[0;31mValueError\u001b[0m                                Traceback (most recent call last)",
      "Input \u001b[0;32mIn [118]\u001b[0m, in \u001b[0;36m<cell line: 5>\u001b[0;34m()\u001b[0m\n\u001b[1;32m      1\u001b[0m \u001b[38;5;66;03m#Perform inverse transformation to rescale back to original range\u001b[39;00m\n\u001b[1;32m      2\u001b[0m \u001b[38;5;66;03m#Since we used 5 variables for transform, the inverse expects same dimensions\u001b[39;00m\n\u001b[1;32m      3\u001b[0m \u001b[38;5;66;03m#Therefore, let us copy our values 5 times and discard them after inverse transform\u001b[39;00m\n\u001b[1;32m      4\u001b[0m prediction_copies \u001b[38;5;241m=\u001b[39m np\u001b[38;5;241m.\u001b[39mrepeat(prediction, df_for_training\u001b[38;5;241m.\u001b[39mshape[\u001b[38;5;241m1\u001b[39m], axis\u001b[38;5;241m=\u001b[39m\u001b[38;5;241m-\u001b[39m\u001b[38;5;241m1\u001b[39m)\n\u001b[0;32m----> 5\u001b[0m y_pred_future \u001b[38;5;241m=\u001b[39m \u001b[43mscaler\u001b[49m\u001b[38;5;241;43m.\u001b[39;49m\u001b[43minverse_transform\u001b[49m\u001b[43m(\u001b[49m\u001b[43mprediction_copies\u001b[49m\u001b[43m)\u001b[49m[:,\u001b[38;5;241m0\u001b[39m]\n",
      "File \u001b[0;32m/media/dobromir/data/sendbox/MLAC/.venv/lib/python3.8/site-packages/sklearn/preprocessing/_data.py:1017\u001b[0m, in \u001b[0;36mStandardScaler.inverse_transform\u001b[0;34m(self, X, copy)\u001b[0m\n\u001b[1;32m   1014\u001b[0m check_is_fitted(\u001b[38;5;28mself\u001b[39m)\n\u001b[1;32m   1016\u001b[0m copy \u001b[38;5;241m=\u001b[39m copy \u001b[38;5;28;01mif\u001b[39;00m copy \u001b[38;5;129;01mis\u001b[39;00m \u001b[38;5;129;01mnot\u001b[39;00m \u001b[38;5;28;01mNone\u001b[39;00m \u001b[38;5;28;01melse\u001b[39;00m \u001b[38;5;28mself\u001b[39m\u001b[38;5;241m.\u001b[39mcopy\n\u001b[0;32m-> 1017\u001b[0m X \u001b[38;5;241m=\u001b[39m \u001b[43mcheck_array\u001b[49m\u001b[43m(\u001b[49m\n\u001b[1;32m   1018\u001b[0m \u001b[43m    \u001b[49m\u001b[43mX\u001b[49m\u001b[43m,\u001b[49m\n\u001b[1;32m   1019\u001b[0m \u001b[43m    \u001b[49m\u001b[43maccept_sparse\u001b[49m\u001b[38;5;241;43m=\u001b[39;49m\u001b[38;5;124;43m\"\u001b[39;49m\u001b[38;5;124;43mcsr\u001b[39;49m\u001b[38;5;124;43m\"\u001b[39;49m\u001b[43m,\u001b[49m\n\u001b[1;32m   1020\u001b[0m \u001b[43m    \u001b[49m\u001b[43mcopy\u001b[49m\u001b[38;5;241;43m=\u001b[39;49m\u001b[43mcopy\u001b[49m\u001b[43m,\u001b[49m\n\u001b[1;32m   1021\u001b[0m \u001b[43m    \u001b[49m\u001b[43mdtype\u001b[49m\u001b[38;5;241;43m=\u001b[39;49m\u001b[43mFLOAT_DTYPES\u001b[49m\u001b[43m,\u001b[49m\n\u001b[1;32m   1022\u001b[0m \u001b[43m    \u001b[49m\u001b[43mforce_all_finite\u001b[49m\u001b[38;5;241;43m=\u001b[39;49m\u001b[38;5;124;43m\"\u001b[39;49m\u001b[38;5;124;43mallow-nan\u001b[39;49m\u001b[38;5;124;43m\"\u001b[39;49m\u001b[43m,\u001b[49m\n\u001b[1;32m   1023\u001b[0m \u001b[43m\u001b[49m\u001b[43m)\u001b[49m\n\u001b[1;32m   1025\u001b[0m \u001b[38;5;28;01mif\u001b[39;00m sparse\u001b[38;5;241m.\u001b[39missparse(X):\n\u001b[1;32m   1026\u001b[0m     \u001b[38;5;28;01mif\u001b[39;00m \u001b[38;5;28mself\u001b[39m\u001b[38;5;241m.\u001b[39mwith_mean:\n",
      "File \u001b[0;32m/media/dobromir/data/sendbox/MLAC/.venv/lib/python3.8/site-packages/sklearn/utils/validation.py:893\u001b[0m, in \u001b[0;36mcheck_array\u001b[0;34m(array, accept_sparse, accept_large_sparse, dtype, order, copy, force_all_finite, ensure_2d, allow_nd, ensure_min_samples, ensure_min_features, estimator, input_name)\u001b[0m\n\u001b[1;32m    887\u001b[0m     \u001b[38;5;28;01mraise\u001b[39;00m \u001b[38;5;167;01mValueError\u001b[39;00m(\n\u001b[1;32m    888\u001b[0m         \u001b[38;5;124m\"\u001b[39m\u001b[38;5;124mdtype=\u001b[39m\u001b[38;5;124m'\u001b[39m\u001b[38;5;124mnumeric\u001b[39m\u001b[38;5;124m'\u001b[39m\u001b[38;5;124m is not compatible with arrays of bytes/strings.\u001b[39m\u001b[38;5;124m\"\u001b[39m\n\u001b[1;32m    889\u001b[0m         \u001b[38;5;124m\"\u001b[39m\u001b[38;5;124mConvert your data to numeric values explicitly instead.\u001b[39m\u001b[38;5;124m\"\u001b[39m\n\u001b[1;32m    890\u001b[0m     )\n\u001b[1;32m    892\u001b[0m \u001b[38;5;28;01mif\u001b[39;00m \u001b[38;5;129;01mnot\u001b[39;00m allow_nd \u001b[38;5;129;01mand\u001b[39;00m array\u001b[38;5;241m.\u001b[39mndim \u001b[38;5;241m>\u001b[39m\u001b[38;5;241m=\u001b[39m \u001b[38;5;241m3\u001b[39m:\n\u001b[0;32m--> 893\u001b[0m     \u001b[38;5;28;01mraise\u001b[39;00m \u001b[38;5;167;01mValueError\u001b[39;00m(\n\u001b[1;32m    894\u001b[0m         \u001b[38;5;124m\"\u001b[39m\u001b[38;5;124mFound array with dim \u001b[39m\u001b[38;5;132;01m%d\u001b[39;00m\u001b[38;5;124m. \u001b[39m\u001b[38;5;132;01m%s\u001b[39;00m\u001b[38;5;124m expected <= 2.\u001b[39m\u001b[38;5;124m\"\u001b[39m\n\u001b[1;32m    895\u001b[0m         \u001b[38;5;241m%\u001b[39m (array\u001b[38;5;241m.\u001b[39mndim, estimator_name)\n\u001b[1;32m    896\u001b[0m     )\n\u001b[1;32m    898\u001b[0m \u001b[38;5;28;01mif\u001b[39;00m force_all_finite:\n\u001b[1;32m    899\u001b[0m     _assert_all_finite(\n\u001b[1;32m    900\u001b[0m         array,\n\u001b[1;32m    901\u001b[0m         input_name\u001b[38;5;241m=\u001b[39minput_name,\n\u001b[1;32m    902\u001b[0m         estimator_name\u001b[38;5;241m=\u001b[39mestimator_name,\n\u001b[1;32m    903\u001b[0m         allow_nan\u001b[38;5;241m=\u001b[39mforce_all_finite \u001b[38;5;241m==\u001b[39m \u001b[38;5;124m\"\u001b[39m\u001b[38;5;124mallow-nan\u001b[39m\u001b[38;5;124m\"\u001b[39m,\n\u001b[1;32m    904\u001b[0m     )\n",
      "\u001b[0;31mValueError\u001b[0m: Found array with dim 3. None expected <= 2."
     ]
    }
   ],
   "source": [
    "#Perform inverse transformation to rescale back to original range\n",
    "#Since we used 5 variables for transform, the inverse expects same dimensions\n",
    "#Therefore, let us copy our values 5 times and discard them after inverse transform\n",
    "prediction_copies = np.repeat(prediction, df_for_training.shape[1], axis=-1)\n",
    "y_pred_future = scaler.inverse_transform(prediction_copies)[:,0]\n"
   ]
  },
  {
   "cell_type": "code",
   "execution_count": 80,
   "id": "85e90573",
   "metadata": {},
   "outputs": [
    {
     "data": {
      "text/plain": [
       "0    2022-08-08\n",
       "1    2022-08-09\n",
       "2    2022-08-10\n",
       "3    2022-08-11\n",
       "4    2022-08-12\n",
       "5    2022-08-15\n",
       "6    2022-08-16\n",
       "7    2022-08-17\n",
       "8    2022-08-18\n",
       "9    2022-08-19\n",
       "10   2022-08-22\n",
       "11   2022-08-23\n",
       "12   2022-08-24\n",
       "13   2022-08-25\n",
       "14   2022-08-26\n",
       "Name: Date, dtype: datetime64[ns]"
      ]
     },
     "execution_count": 80,
     "metadata": {},
     "output_type": "execute_result"
    }
   ],
   "source": [
    "# Convert timestamp to date\n",
    "forecast_dates = []\n",
    "for time_i in predict_period_dates:\n",
    "    forecast_dates.append(time_i.date())\n",
    "    \n",
    "df_forecast = pd.DataFrame({'Date':np.array(forecast_dates), 'Open':y_pred_future})\n",
    "df_forecast['Date']=pd.to_datetime(df_forecast['Date'])\n",
    "df_forecast['Date']"
   ]
  },
  {
   "cell_type": "code",
   "execution_count": 93,
   "id": "9e1bdda7",
   "metadata": {},
   "outputs": [
    {
     "name": "stderr",
     "output_type": "stream",
     "text": [
      "/media/dobromir/data/sendbox/MLAC/.venv/lib/python3.8/site-packages/seaborn/_decorators.py:36: FutureWarning: Pass the following variables as keyword args: x, y. From version 0.12, the only valid positional argument will be `data`, and passing other arguments without an explicit keyword will result in an error or misinterpretation.\n",
      "  warnings.warn(\n"
     ]
    },
    {
     "data": {
      "text/plain": [
       "<AxesSubplot:xlabel='Date', ylabel='Open'>"
      ]
     },
     "execution_count": 93,
     "metadata": {},
     "output_type": "execute_result"
    },
    {
     "data": {
      "image/png": "[encoded data removed]",
      "text/plain": [
       "<Figure size 432x288 with 1 Axes>"
      ]
     },
     "metadata": {},
     "output_type": "display_data"
    }
   ],
   "source": [
    "# original = df[['Open']]\n",
    "\n",
    "# original['Date']=pd.to_datetime(original['Date'])\n",
    "# original = original.loc[original['Date'] >= '2020-5-1']\n",
    "\n",
    "# sns.lineplot(original['Date'], original['Open'])\n",
    "sns.lineplot(df_forecast['Date'], df_forecast['Open'])"
   ]
  },
  {
   "cell_type": "code",
   "execution_count": null,
   "id": "c2eb6066",
   "metadata": {},
   "outputs": [],
   "source": []
  }
 ],
 "metadata": {
  "kernelspec": {
   "display_name": "Python 3 (ipykernel)",
   "language": "python",
   "name": "python3"
  },
  "language_info": {
   "codemirror_mode": {
    "name": "ipython",
    "version": 3
   },
   "file_extension": ".py",
   "mimetype": "text/x-python",
   "name": "python",
   "nbconvert_exporter": "python",
   "pygments_lexer": "ipython3",
   "version": "3.8.10"
  }
 },
 "nbformat": 4,
 "nbformat_minor": 5
}
