{
 "cells": [
  {
   "cell_type": "code",
   "execution_count": 2,
   "id": "56ddf614",
   "metadata": {},
   "outputs": [],
   "source": [
    "# Import data source\n",
    "import yfinance as yf"
   ]
  },
  {
   "cell_type": "code",
   "execution_count": 3,
   "id": "22983923",
   "metadata": {},
   "outputs": [
    {
     "name": "stdout",
     "output_type": "stream",
     "text": [
      "[*********************100%***********************]  1 of 1 completed\n"
     ]
    }
   ],
   "source": [
    "#See the yahoo finance ticker for your stock symbol\n",
    "stock_symbol = 'EW' #'SNDL' 'GAIL.NS'\n",
    "#last 5 years data with interval of 1 day\n",
    "data = yf.download(tickers=stock_symbol,period='5y',interval='1d')"
   ]
  },
  {
   "cell_type": "code",
   "execution_count": 4,
   "id": "c5c3fd7f",
   "metadata": {
    "scrolled": true
   },
   "outputs": [
    {
     "data": {
      "text/html": [
       "<div>\n",
       "<style scoped>\n",
       "    .dataframe tbody tr th:only-of-type {\n",
       "        vertical-align: middle;\n",
       "    }\n",
       "\n",
       "    .dataframe tbody tr th {\n",
       "        vertical-align: top;\n",
       "    }\n",
       "\n",
       "    .dataframe thead th {\n",
       "        text-align: right;\n",
       "    }\n",
       "</style>\n",
       "<table border=\"1\" class=\"dataframe\">\n",
       "  <thead>\n",
       "    <tr style=\"text-align: right;\">\n",
       "      <th></th>\n",
       "      <th>Open</th>\n",
       "      <th>High</th>\n",
       "      <th>Low</th>\n",
       "      <th>Close</th>\n",
       "      <th>Adj Close</th>\n",
       "      <th>Volume</th>\n",
       "    </tr>\n",
       "    <tr>\n",
       "      <th>Date</th>\n",
       "      <th></th>\n",
       "      <th></th>\n",
       "      <th></th>\n",
       "      <th></th>\n",
       "      <th></th>\n",
       "      <th></th>\n",
       "    </tr>\n",
       "  </thead>\n",
       "  <tbody>\n",
       "    <tr>\n",
       "      <th>2017-08-28</th>\n",
       "      <td>37.520000</td>\n",
       "      <td>37.816666</td>\n",
       "      <td>37.490002</td>\n",
       "      <td>37.703335</td>\n",
       "      <td>37.703335</td>\n",
       "      <td>3150600</td>\n",
       "    </tr>\n",
       "    <tr>\n",
       "      <th>2017-08-29</th>\n",
       "      <td>37.439999</td>\n",
       "      <td>37.750000</td>\n",
       "      <td>37.246666</td>\n",
       "      <td>37.276669</td>\n",
       "      <td>37.276669</td>\n",
       "      <td>4098000</td>\n",
       "    </tr>\n",
       "    <tr>\n",
       "      <th>2017-08-30</th>\n",
       "      <td>37.340000</td>\n",
       "      <td>37.663334</td>\n",
       "      <td>37.176666</td>\n",
       "      <td>37.563332</td>\n",
       "      <td>37.563332</td>\n",
       "      <td>2787600</td>\n",
       "    </tr>\n",
       "    <tr>\n",
       "      <th>2017-08-31</th>\n",
       "      <td>37.606667</td>\n",
       "      <td>37.930000</td>\n",
       "      <td>37.480000</td>\n",
       "      <td>37.886665</td>\n",
       "      <td>37.886665</td>\n",
       "      <td>3274200</td>\n",
       "    </tr>\n",
       "    <tr>\n",
       "      <th>2017-09-01</th>\n",
       "      <td>37.930000</td>\n",
       "      <td>38.033333</td>\n",
       "      <td>37.596668</td>\n",
       "      <td>37.770000</td>\n",
       "      <td>37.770000</td>\n",
       "      <td>2850000</td>\n",
       "    </tr>\n",
       "  </tbody>\n",
       "</table>\n",
       "</div>"
      ],
      "text/plain": [
       "                 Open       High        Low      Close  Adj Close   Volume\n",
       "Date                                                                      \n",
       "2017-08-28  37.520000  37.816666  37.490002  37.703335  37.703335  3150600\n",
       "2017-08-29  37.439999  37.750000  37.246666  37.276669  37.276669  4098000\n",
       "2017-08-30  37.340000  37.663334  37.176666  37.563332  37.563332  2787600\n",
       "2017-08-31  37.606667  37.930000  37.480000  37.886665  37.886665  3274200\n",
       "2017-09-01  37.930000  38.033333  37.596668  37.770000  37.770000  2850000"
      ]
     },
     "execution_count": 4,
     "metadata": {},
     "output_type": "execute_result"
    }
   ],
   "source": [
    "data.head()"
   ]
  },
  {
   "cell_type": "code",
   "execution_count": 5,
   "id": "48a9369f",
   "metadata": {},
   "outputs": [
    {
     "data": {
      "text/html": [
       "<div>\n",
       "<style scoped>\n",
       "    .dataframe tbody tr th:only-of-type {\n",
       "        vertical-align: middle;\n",
       "    }\n",
       "\n",
       "    .dataframe tbody tr th {\n",
       "        vertical-align: top;\n",
       "    }\n",
       "\n",
       "    .dataframe thead th {\n",
       "        text-align: right;\n",
       "    }\n",
       "</style>\n",
       "<table border=\"1\" class=\"dataframe\">\n",
       "  <thead>\n",
       "    <tr style=\"text-align: right;\">\n",
       "      <th></th>\n",
       "      <th>Open</th>\n",
       "      <th>High</th>\n",
       "      <th>Low</th>\n",
       "      <th>Close</th>\n",
       "      <th>Adj Close</th>\n",
       "      <th>Volume</th>\n",
       "    </tr>\n",
       "    <tr>\n",
       "      <th>Date</th>\n",
       "      <th></th>\n",
       "      <th></th>\n",
       "      <th></th>\n",
       "      <th></th>\n",
       "      <th></th>\n",
       "      <th></th>\n",
       "    </tr>\n",
       "  </thead>\n",
       "  <tbody>\n",
       "    <tr>\n",
       "      <th>2022-08-22</th>\n",
       "      <td>97.160004</td>\n",
       "      <td>98.220001</td>\n",
       "      <td>95.519997</td>\n",
       "      <td>95.870003</td>\n",
       "      <td>95.870003</td>\n",
       "      <td>2073200</td>\n",
       "    </tr>\n",
       "    <tr>\n",
       "      <th>2022-08-23</th>\n",
       "      <td>95.300003</td>\n",
       "      <td>95.300003</td>\n",
       "      <td>93.570000</td>\n",
       "      <td>94.150002</td>\n",
       "      <td>94.150002</td>\n",
       "      <td>2289500</td>\n",
       "    </tr>\n",
       "    <tr>\n",
       "      <th>2022-08-24</th>\n",
       "      <td>94.820000</td>\n",
       "      <td>95.589996</td>\n",
       "      <td>93.500000</td>\n",
       "      <td>94.959999</td>\n",
       "      <td>94.959999</td>\n",
       "      <td>2546500</td>\n",
       "    </tr>\n",
       "    <tr>\n",
       "      <th>2022-08-25</th>\n",
       "      <td>95.980003</td>\n",
       "      <td>96.669998</td>\n",
       "      <td>95.129997</td>\n",
       "      <td>96.650002</td>\n",
       "      <td>96.650002</td>\n",
       "      <td>1753200</td>\n",
       "    </tr>\n",
       "    <tr>\n",
       "      <th>2022-08-26</th>\n",
       "      <td>95.989998</td>\n",
       "      <td>96.339996</td>\n",
       "      <td>91.080002</td>\n",
       "      <td>91.239998</td>\n",
       "      <td>91.239998</td>\n",
       "      <td>2209900</td>\n",
       "    </tr>\n",
       "  </tbody>\n",
       "</table>\n",
       "</div>"
      ],
      "text/plain": [
       "                 Open       High        Low      Close  Adj Close   Volume\n",
       "Date                                                                      \n",
       "2022-08-22  97.160004  98.220001  95.519997  95.870003  95.870003  2073200\n",
       "2022-08-23  95.300003  95.300003  93.570000  94.150002  94.150002  2289500\n",
       "2022-08-24  94.820000  95.589996  93.500000  94.959999  94.959999  2546500\n",
       "2022-08-25  95.980003  96.669998  95.129997  96.650002  96.650002  1753200\n",
       "2022-08-26  95.989998  96.339996  91.080002  91.239998  91.239998  2209900"
      ]
     },
     "execution_count": 5,
     "metadata": {},
     "output_type": "execute_result"
    }
   ],
   "source": [
    "data.tail()"
   ]
  },
  {
   "cell_type": "code",
   "execution_count": 6,
   "id": "b8d53a02",
   "metadata": {},
   "outputs": [],
   "source": [
    "opn = data[['Open']]"
   ]
  },
  {
   "cell_type": "code",
   "execution_count": 7,
   "id": "75e17ad9",
   "metadata": {
    "scrolled": false
   },
   "outputs": [
    {
     "data": {
      "text/plain": [
       "<AxesSubplot:xlabel='Date'>"
      ]
     },
     "execution_count": 7,
     "metadata": {},
     "output_type": "execute_result"
    },
    {
     "data": {
      "image/png": "[encoded data removed]",
      "text/plain": [
       "<Figure size 432x288 with 1 Axes>"
      ]
     },
     "metadata": {
      "needs_background": "light"
     },
     "output_type": "display_data"
    }
   ],
   "source": [
    "opn.plot()"
   ]
  },
  {
   "cell_type": "code",
   "execution_count": 8,
   "id": "9d88d5a1",
   "metadata": {},
   "outputs": [],
   "source": [
    "import matplotlib.pyplot as plt"
   ]
  },
  {
   "cell_type": "code",
   "execution_count": 9,
   "id": "65713131",
   "metadata": {},
   "outputs": [],
   "source": [
    "ds = opn.values"
   ]
  },
  {
   "cell_type": "code",
   "execution_count": 10,
   "id": "2b154792",
   "metadata": {},
   "outputs": [
    {
     "data": {
      "text/plain": [
       "array([[37.52000046],\n",
       "       [37.43999863],\n",
       "       [37.34000015],\n",
       "       ...,\n",
       "       [94.81999969],\n",
       "       [95.98000336],\n",
       "       [95.98999786]])"
      ]
     },
     "execution_count": 10,
     "metadata": {},
     "output_type": "execute_result"
    }
   ],
   "source": [
    "ds"
   ]
  },
  {
   "cell_type": "code",
   "execution_count": 11,
   "id": "1ba97465",
   "metadata": {},
   "outputs": [
    {
     "data": {
      "text/plain": [
       "[<matplotlib.lines.Line2D at 0x7fe4207b2640>]"
      ]
     },
     "execution_count": 11,
     "metadata": {},
     "output_type": "execute_result"
    },
    {
     "data": {
      "image/png": "[encoded data removed]",
      "text/plain": [
       "<Figure size 432x288 with 1 Axes>"
      ]
     },
     "metadata": {
      "needs_background": "light"
     },
     "output_type": "display_data"
    }
   ],
   "source": [
    "plt.plot(ds)"
   ]
  },
  {
   "cell_type": "code",
   "execution_count": 12,
   "id": "e678d581",
   "metadata": {},
   "outputs": [],
   "source": [
    "import numpy as np"
   ]
  },
  {
   "cell_type": "code",
   "execution_count": 13,
   "id": "97df5793",
   "metadata": {},
   "outputs": [],
   "source": [
    "from sklearn.preprocessing import MinMaxScaler"
   ]
  },
  {
   "cell_type": "code",
   "execution_count": 14,
   "id": "b4a81271",
   "metadata": {},
   "outputs": [],
   "source": [
    "#Using MinMaxScaler for normalizing data between 0 & 1\n",
    "normalizer = MinMaxScaler(feature_range=(0,1))\n",
    "ds_scaled = normalizer.fit_transform(np.array(ds).reshape(-1,1))"
   ]
  },
  {
   "cell_type": "code",
   "execution_count": 15,
   "id": "5afccb4f",
   "metadata": {},
   "outputs": [
    {
     "data": {
      "text/plain": [
       "(1259, 1259)"
      ]
     },
     "execution_count": 15,
     "metadata": {},
     "output_type": "execute_result"
    }
   ],
   "source": [
    "#ds_scaled = ds_scaled[:1232]\n",
    "#ds = ds[:1232]\n",
    "len(ds_scaled), len(ds)"
   ]
  },
  {
   "cell_type": "code",
   "execution_count": 16,
   "id": "c2e9df6e",
   "metadata": {},
   "outputs": [],
   "source": [
    "#Defining test and train data sizes\n",
    "train_size = int(len(ds_scaled)*0.70)\n",
    "test_size = len(ds_scaled) - train_size"
   ]
  },
  {
   "cell_type": "code",
   "execution_count": 17,
   "id": "0feb78f6",
   "metadata": {},
   "outputs": [
    {
     "data": {
      "text/plain": [
       "(881, 378)"
      ]
     },
     "execution_count": 17,
     "metadata": {},
     "output_type": "execute_result"
    }
   ],
   "source": [
    "train_size,test_size"
   ]
  },
  {
   "cell_type": "code",
   "execution_count": 18,
   "id": "cc10d4b0",
   "metadata": {},
   "outputs": [],
   "source": [
    "#Splitting data between train and test\n",
    "ds_train, ds_test = ds_scaled[0:train_size,:], ds_scaled[train_size:len(ds_scaled),:1]"
   ]
  },
  {
   "cell_type": "code",
   "execution_count": 19,
   "id": "c7913237",
   "metadata": {},
   "outputs": [
    {
     "name": "stdout",
     "output_type": "stream",
     "text": [
      "EQUAL\n"
     ]
    }
   ],
   "source": [
    "if len(ds_scaled) == train_size + test_size:\n",
    "    print(\"EQUAL\")\n",
    "else:\n",
    "    print(\"NOT EQUAL\")"
   ]
  },
  {
   "cell_type": "code",
   "execution_count": 20,
   "id": "24bee644",
   "metadata": {
    "scrolled": true
   },
   "outputs": [
    {
     "data": {
      "text/plain": [
       "(881, 378)"
      ]
     },
     "execution_count": 20,
     "metadata": {},
     "output_type": "execute_result"
    }
   ],
   "source": [
    "len(ds_train),len(ds_test)"
   ]
  },
  {
   "cell_type": "code",
   "execution_count": 21,
   "id": "75ae5f55",
   "metadata": {
    "scrolled": true
   },
   "outputs": [
    {
     "data": {
      "text/plain": [
       "881"
      ]
     },
     "execution_count": 21,
     "metadata": {},
     "output_type": "execute_result"
    }
   ],
   "source": [
    "len(ds_train)"
   ]
  },
  {
   "cell_type": "code",
   "execution_count": 22,
   "id": "0bae512c",
   "metadata": {},
   "outputs": [],
   "source": [
    "#creating dataset in time series for LSTM model \n",
    "#X[100,120,140,160,180] : Y[200]\n",
    "def create_ds(dataset,step):\n",
    "    Xtrain, Ytrain = [], []\n",
    "    for i in range(len(dataset)-step-1):\n",
    "        a = dataset[i:(i+step), 0]\n",
    "        Xtrain.append(a)\n",
    "        Ytrain.append(dataset[i + step-1, 0])\n",
    "    return np.array(Xtrain), np.array(Ytrain)"
   ]
  },
  {
   "cell_type": "code",
   "execution_count": 23,
   "id": "6937d104",
   "metadata": {},
   "outputs": [],
   "source": [
    "#Taking 100 days price as one record for training\n",
    "time_stamp = 100\n",
    "X_train, y_train = create_ds(ds_train,time_stamp)\n",
    "X_test, y_test = create_ds(ds_test,time_stamp)"
   ]
  },
  {
   "cell_type": "code",
   "execution_count": 24,
   "id": "450a969d",
   "metadata": {},
   "outputs": [],
   "source": [
    "#Reshaping data to fit into LSTM model\n",
    "X_train = X_train.reshape(X_train.shape[0],X_train.shape[1] , 1)\n",
    "X_test = X_test.reshape(X_test.shape[0],X_test.shape[1] , 1)"
   ]
  },
  {
   "cell_type": "code",
   "execution_count": 27,
   "id": "ae33853d",
   "metadata": {
    "scrolled": false
   },
   "outputs": [],
   "source": [
    "from keras.models import Sequential\n",
    "from keras.layers import Dense, LSTM\n"
   ]
  },
  {
   "cell_type": "code",
   "execution_count": 28,
   "id": "77fd65b5",
   "metadata": {},
   "outputs": [
    {
     "name": "stdout",
     "output_type": "stream",
     "text": [
      "Model: \"sequential_1\"\n",
      "_________________________________________________________________\n",
      " Layer (type)                Output Shape              Param #   \n",
      "=================================================================\n",
      " lstm_3 (LSTM)               (None, 100, 50)           10400     \n",
      "                                                                 \n",
      " lstm_4 (LSTM)               (None, 100, 50)           20200     \n",
      "                                                                 \n",
      " lstm_5 (LSTM)               (None, 50)                20200     \n",
      "                                                                 \n",
      " dense_1 (Dense)             (None, 1)                 51        \n",
      "                                                                 \n",
      "=================================================================\n",
      "Total params: 50,851\n",
      "Trainable params: 50,851\n",
      "Non-trainable params: 0\n",
      "_________________________________________________________________\n"
     ]
    }
   ],
   "source": [
    "#Creating LSTM model using keras\n",
    "model = Sequential()\n",
    "model.add(LSTM(units=50,return_sequences=True,input_shape=(X_train.shape[1],1)))\n",
    "model.add(LSTM(units=50,return_sequences=True))\n",
    "model.add(LSTM(units=50))\n",
    "model.add(Dense(units=1,activation='linear'))\n",
    "model.summary()"
   ]
  },
  {
   "cell_type": "code",
   "execution_count": 29,
   "id": "2ba4160f",
   "metadata": {},
   "outputs": [
    {
     "name": "stdout",
     "output_type": "stream",
     "text": [
      "Epoch 1/100\n",
      "13/13 [==============================] - 7s 222ms/step - loss: 0.0396 - val_loss: 0.0541\n",
      "Epoch 2/100\n",
      "13/13 [==============================] - 2s 126ms/step - loss: 0.0067 - val_loss: 0.0075\n",
      "Epoch 3/100\n",
      "13/13 [==============================] - 2s 125ms/step - loss: 0.0031 - val_loss: 0.0144\n",
      "Epoch 4/100\n",
      "13/13 [==============================] - 2s 127ms/step - loss: 0.0015 - val_loss: 0.0083\n",
      "Epoch 5/100\n",
      "13/13 [==============================] - 2s 128ms/step - loss: 0.0012 - val_loss: 0.0051\n",
      "Epoch 6/100\n",
      "13/13 [==============================] - 2s 126ms/step - loss: 0.0011 - val_loss: 0.0049\n",
      "Epoch 7/100\n",
      "13/13 [==============================] - 2s 126ms/step - loss: 0.0011 - val_loss: 0.0051\n",
      "Epoch 8/100\n",
      "13/13 [==============================] - 2s 127ms/step - loss: 0.0011 - val_loss: 0.0059\n",
      "Epoch 9/100\n",
      "13/13 [==============================] - 2s 127ms/step - loss: 0.0011 - val_loss: 0.0046\n",
      "Epoch 10/100\n",
      "13/13 [==============================] - 2s 127ms/step - loss: 0.0011 - val_loss: 0.0044\n",
      "Epoch 11/100\n",
      "13/13 [==============================] - 2s 128ms/step - loss: 0.0011 - val_loss: 0.0039\n",
      "Epoch 12/100\n",
      "13/13 [==============================] - 2s 130ms/step - loss: 0.0011 - val_loss: 0.0051\n",
      "Epoch 13/100\n",
      "13/13 [==============================] - 2s 145ms/step - loss: 0.0010 - val_loss: 0.0047\n",
      "Epoch 14/100\n",
      "13/13 [==============================] - 2s 158ms/step - loss: 0.0010 - val_loss: 0.0041\n",
      "Epoch 15/100\n",
      "13/13 [==============================] - 3s 208ms/step - loss: 9.8989e-04 - val_loss: 0.0046\n",
      "Epoch 16/100\n",
      "13/13 [==============================] - 3s 214ms/step - loss: 9.7441e-04 - val_loss: 0.0040\n",
      "Epoch 17/100\n",
      "13/13 [==============================] - 2s 140ms/step - loss: 9.6141e-04 - val_loss: 0.0037\n",
      "Epoch 18/100\n",
      "13/13 [==============================] - 3s 190ms/step - loss: 9.8675e-04 - val_loss: 0.0048\n",
      "Epoch 19/100\n",
      "13/13 [==============================] - 2s 135ms/step - loss: 9.4610e-04 - val_loss: 0.0039\n",
      "Epoch 20/100\n",
      "13/13 [==============================] - 2s 168ms/step - loss: 9.0053e-04 - val_loss: 0.0036\n",
      "Epoch 21/100\n",
      "13/13 [==============================] - 2s 131ms/step - loss: 8.7682e-04 - val_loss: 0.0032\n",
      "Epoch 22/100\n",
      "13/13 [==============================] - 3s 263ms/step - loss: 8.9395e-04 - val_loss: 0.0039\n",
      "Epoch 23/100\n",
      "13/13 [==============================] - 3s 201ms/step - loss: 8.5726e-04 - val_loss: 0.0036\n",
      "Epoch 24/100\n",
      "13/13 [==============================] - 2s 139ms/step - loss: 8.3280e-04 - val_loss: 0.0033\n",
      "Epoch 25/100\n",
      "13/13 [==============================] - 2s 157ms/step - loss: 7.9666e-04 - val_loss: 0.0027\n",
      "Epoch 26/100\n",
      "13/13 [==============================] - 2s 149ms/step - loss: 7.8850e-04 - val_loss: 0.0036\n",
      "Epoch 27/100\n",
      "13/13 [==============================] - 3s 228ms/step - loss: 7.8771e-04 - val_loss: 0.0042\n",
      "Epoch 28/100\n",
      "13/13 [==============================] - 3s 189ms/step - loss: 7.7355e-04 - val_loss: 0.0021\n",
      "Epoch 29/100\n",
      "13/13 [==============================] - 2s 161ms/step - loss: 7.7832e-04 - val_loss: 0.0057\n",
      "Epoch 30/100\n",
      "13/13 [==============================] - 2s 155ms/step - loss: 7.6144e-04 - val_loss: 0.0028\n",
      "Epoch 31/100\n",
      "13/13 [==============================] - 2s 192ms/step - loss: 6.8700e-04 - val_loss: 0.0027\n",
      "Epoch 32/100\n",
      "13/13 [==============================] - 2s 138ms/step - loss: 7.1397e-04 - val_loss: 0.0035\n",
      "Epoch 33/100\n",
      "13/13 [==============================] - 2s 147ms/step - loss: 6.5946e-04 - val_loss: 0.0052\n",
      "Epoch 34/100\n",
      "13/13 [==============================] - 3s 198ms/step - loss: 6.3671e-04 - val_loss: 0.0022\n",
      "Epoch 35/100\n",
      "13/13 [==============================] - 3s 189ms/step - loss: 6.6365e-04 - val_loss: 0.0062\n",
      "Epoch 36/100\n",
      "13/13 [==============================] - 3s 204ms/step - loss: 5.7827e-04 - val_loss: 0.0047\n",
      "Epoch 37/100\n",
      "13/13 [==============================] - 2s 180ms/step - loss: 5.6276e-04 - val_loss: 0.0042\n",
      "Epoch 38/100\n",
      "13/13 [==============================] - 2s 137ms/step - loss: 5.6101e-04 - val_loss: 0.0047\n",
      "Epoch 39/100\n",
      "13/13 [==============================] - 2s 176ms/step - loss: 5.4283e-04 - val_loss: 0.0034\n",
      "Epoch 40/100\n",
      "13/13 [==============================] - 3s 230ms/step - loss: 5.0466e-04 - val_loss: 0.0034\n",
      "Epoch 41/100\n",
      "13/13 [==============================] - 2s 167ms/step - loss: 4.8698e-04 - val_loss: 0.0037\n",
      "Epoch 42/100\n",
      "13/13 [==============================] - 2s 153ms/step - loss: 5.7779e-04 - val_loss: 0.0017\n",
      "Epoch 43/100\n",
      "13/13 [==============================] - 2s 130ms/step - loss: 5.4600e-04 - val_loss: 0.0022\n",
      "Epoch 44/100\n",
      "13/13 [==============================] - 2s 132ms/step - loss: 5.5762e-04 - val_loss: 0.0039\n",
      "Epoch 45/100\n",
      "13/13 [==============================] - 2s 127ms/step - loss: 5.0614e-04 - val_loss: 0.0064\n",
      "Epoch 46/100\n",
      "13/13 [==============================] - 2s 129ms/step - loss: 5.1285e-04 - val_loss: 0.0032\n",
      "Epoch 47/100\n",
      "13/13 [==============================] - 2s 140ms/step - loss: 4.8812e-04 - val_loss: 0.0031\n",
      "Epoch 48/100\n",
      "13/13 [==============================] - 2s 144ms/step - loss: 4.3971e-04 - val_loss: 0.0018\n",
      "Epoch 49/100\n",
      "13/13 [==============================] - 2s 163ms/step - loss: 4.4539e-04 - val_loss: 0.0020\n",
      "Epoch 50/100\n",
      "13/13 [==============================] - 2s 131ms/step - loss: 4.1736e-04 - val_loss: 0.0026\n",
      "Epoch 51/100\n",
      "13/13 [==============================] - 2s 132ms/step - loss: 4.2170e-04 - val_loss: 0.0015\n",
      "Epoch 52/100\n",
      "13/13 [==============================] - 2s 128ms/step - loss: 4.0034e-04 - val_loss: 0.0022\n",
      "Epoch 53/100\n",
      "13/13 [==============================] - 2s 126ms/step - loss: 4.4475e-04 - val_loss: 0.0035\n",
      "Epoch 54/100\n",
      "13/13 [==============================] - 2s 124ms/step - loss: 3.9908e-04 - val_loss: 0.0046\n",
      "Epoch 55/100\n",
      "13/13 [==============================] - 2s 123ms/step - loss: 4.3077e-04 - val_loss: 0.0027\n",
      "Epoch 56/100\n",
      "13/13 [==============================] - 2s 127ms/step - loss: 4.5664e-04 - val_loss: 0.0025\n",
      "Epoch 57/100\n",
      "13/13 [==============================] - 2s 121ms/step - loss: 3.9898e-04 - val_loss: 0.0021\n",
      "Epoch 58/100\n",
      "13/13 [==============================] - 2s 121ms/step - loss: 3.8335e-04 - val_loss: 0.0012\n",
      "Epoch 59/100\n",
      "13/13 [==============================] - 2s 122ms/step - loss: 3.5815e-04 - val_loss: 8.9803e-04\n",
      "Epoch 60/100\n",
      "13/13 [==============================] - 2s 120ms/step - loss: 3.8927e-04 - val_loss: 0.0013\n",
      "Epoch 61/100\n",
      "13/13 [==============================] - 2s 121ms/step - loss: 4.6539e-04 - val_loss: 0.0011\n",
      "Epoch 62/100\n",
      "13/13 [==============================] - 2s 121ms/step - loss: 4.0387e-04 - val_loss: 0.0038\n",
      "Epoch 63/100\n",
      "13/13 [==============================] - 2s 122ms/step - loss: 3.5981e-04 - val_loss: 0.0012\n",
      "Epoch 64/100\n",
      "13/13 [==============================] - 2s 121ms/step - loss: 3.3464e-04 - val_loss: 0.0015\n",
      "Epoch 65/100\n",
      "13/13 [==============================] - 2s 122ms/step - loss: 3.1305e-04 - val_loss: 0.0019\n",
      "Epoch 66/100\n",
      "13/13 [==============================] - 2s 122ms/step - loss: 3.1629e-04 - val_loss: 9.8454e-04\n",
      "Epoch 67/100\n",
      "13/13 [==============================] - 2s 120ms/step - loss: 3.1403e-04 - val_loss: 0.0011\n",
      "Epoch 68/100\n",
      "13/13 [==============================] - 2s 122ms/step - loss: 3.1475e-04 - val_loss: 8.0729e-04\n",
      "Epoch 69/100\n",
      "13/13 [==============================] - 2s 121ms/step - loss: 2.9942e-04 - val_loss: 6.7181e-04\n",
      "Epoch 70/100\n",
      "13/13 [==============================] - 2s 122ms/step - loss: 2.9103e-04 - val_loss: 7.0942e-04\n",
      "Epoch 71/100\n",
      "13/13 [==============================] - 2s 120ms/step - loss: 2.9133e-04 - val_loss: 4.9649e-04\n",
      "Epoch 72/100\n",
      "13/13 [==============================] - 2s 123ms/step - loss: 2.6659e-04 - val_loss: 9.6013e-04\n",
      "Epoch 73/100\n",
      "13/13 [==============================] - 2s 122ms/step - loss: 2.6812e-04 - val_loss: 0.0013\n",
      "Epoch 74/100\n",
      "13/13 [==============================] - 2s 136ms/step - loss: 3.5638e-04 - val_loss: 0.0026\n",
      "Epoch 75/100\n",
      "13/13 [==============================] - 2s 132ms/step - loss: 2.8339e-04 - val_loss: 3.9771e-04\n",
      "Epoch 76/100\n",
      "13/13 [==============================] - 2s 122ms/step - loss: 2.7327e-04 - val_loss: 0.0016\n",
      "Epoch 77/100\n",
      "13/13 [==============================] - 2s 122ms/step - loss: 2.9484e-04 - val_loss: 3.7777e-04\n",
      "Epoch 78/100\n"
     ]
    },
    {
     "name": "stdout",
     "output_type": "stream",
     "text": [
      "13/13 [==============================] - 2s 135ms/step - loss: 3.7882e-04 - val_loss: 6.8816e-04\n",
      "Epoch 79/100\n",
      "13/13 [==============================] - 2s 171ms/step - loss: 3.6178e-04 - val_loss: 3.7470e-04\n",
      "Epoch 80/100\n",
      "13/13 [==============================] - 2s 139ms/step - loss: 2.7368e-04 - val_loss: 8.1890e-04\n",
      "Epoch 81/100\n",
      "13/13 [==============================] - 2s 141ms/step - loss: 2.4682e-04 - val_loss: 0.0011\n",
      "Epoch 82/100\n",
      "13/13 [==============================] - 2s 140ms/step - loss: 2.4013e-04 - val_loss: 8.7744e-04\n",
      "Epoch 83/100\n",
      "13/13 [==============================] - 2s 136ms/step - loss: 2.2174e-04 - val_loss: 2.8711e-04\n",
      "Epoch 84/100\n",
      "13/13 [==============================] - 2s 152ms/step - loss: 2.1017e-04 - val_loss: 2.7761e-04\n",
      "Epoch 85/100\n",
      "13/13 [==============================] - 2s 133ms/step - loss: 2.2967e-04 - val_loss: 0.0011\n",
      "Epoch 86/100\n",
      "13/13 [==============================] - 2s 122ms/step - loss: 2.4588e-04 - val_loss: 2.7905e-04\n",
      "Epoch 87/100\n",
      "13/13 [==============================] - 2s 173ms/step - loss: 2.8132e-04 - val_loss: 3.2087e-04\n",
      "Epoch 88/100\n",
      "13/13 [==============================] - 2s 128ms/step - loss: 2.4139e-04 - val_loss: 4.1022e-04\n",
      "Epoch 89/100\n",
      "13/13 [==============================] - 2s 141ms/step - loss: 1.8978e-04 - val_loss: 5.6910e-04\n",
      "Epoch 90/100\n",
      "13/13 [==============================] - 2s 122ms/step - loss: 1.9136e-04 - val_loss: 2.2148e-04\n",
      "Epoch 91/100\n",
      "13/13 [==============================] - 2s 140ms/step - loss: 2.1380e-04 - val_loss: 2.3158e-04\n",
      "Epoch 92/100\n",
      "13/13 [==============================] - 2s 131ms/step - loss: 1.7939e-04 - val_loss: 3.1651e-04\n",
      "Epoch 93/100\n",
      "13/13 [==============================] - 2s 139ms/step - loss: 1.9270e-04 - val_loss: 1.6358e-04\n",
      "Epoch 94/100\n",
      "13/13 [==============================] - 2s 181ms/step - loss: 2.0612e-04 - val_loss: 0.0010\n",
      "Epoch 95/100\n",
      "13/13 [==============================] - 2s 182ms/step - loss: 1.6045e-04 - val_loss: 1.4321e-04\n",
      "Epoch 96/100\n",
      "13/13 [==============================] - 2s 177ms/step - loss: 1.6262e-04 - val_loss: 1.3599e-04\n",
      "Epoch 97/100\n",
      "13/13 [==============================] - 2s 179ms/step - loss: 1.4514e-04 - val_loss: 1.9798e-04\n",
      "Epoch 98/100\n",
      "13/13 [==============================] - 2s 180ms/step - loss: 1.4285e-04 - val_loss: 1.1123e-04\n",
      "Epoch 99/100\n",
      "13/13 [==============================] - 2s 179ms/step - loss: 1.2562e-04 - val_loss: 3.9230e-04\n",
      "Epoch 100/100\n",
      "13/13 [==============================] - 2s 179ms/step - loss: 1.4399e-04 - val_loss: 9.3410e-05\n"
     ]
    },
    {
     "data": {
      "text/plain": [
       "<keras.callbacks.History at 0x7fe3cc189880>"
      ]
     },
     "execution_count": 29,
     "metadata": {},
     "output_type": "execute_result"
    }
   ],
   "source": [
    "#Training model with adam optimizer and mean squared error loss function\n",
    "model.compile(loss='mean_squared_error',optimizer='adam')\n",
    "model.fit(X_train,y_train,validation_data=(X_test,y_test),epochs=100,batch_size=64)"
   ]
  },
  {
   "cell_type": "code",
   "execution_count": 30,
   "id": "5340fe04",
   "metadata": {
    "scrolled": true
   },
   "outputs": [
    {
     "data": {
      "text/plain": [
       "[<matplotlib.lines.Line2D at 0x7fe3cc3cc2b0>]"
      ]
     },
     "execution_count": 30,
     "metadata": {},
     "output_type": "execute_result"
    },
    {
     "data": {
      "image/png": "[encoded data removed]",
      "text/plain": [
       "<Figure size 432x288 with 1 Axes>"
      ]
     },
     "metadata": {
      "needs_background": "light"
     },
     "output_type": "display_data"
    }
   ],
   "source": [
    "#PLotting loss, it shows that loss has decreased significantly and model trained well\n",
    "loss = model.history.history['loss']\n",
    "plt.plot(loss)"
   ]
  },
  {
   "cell_type": "code",
   "execution_count": 31,
   "id": "11d8f656",
   "metadata": {},
   "outputs": [
    {
     "name": "stdout",
     "output_type": "stream",
     "text": [
      "25/25 [==============================] - 2s 31ms/step\n",
      "9/9 [==============================] - 0s 30ms/step\n"
     ]
    }
   ],
   "source": [
    "#Predicitng on train and test data\n",
    "train_predict = model.predict(X_train)\n",
    "test_predict = model.predict(X_test)"
   ]
  },
  {
   "cell_type": "code",
   "execution_count": 32,
   "id": "b4141066",
   "metadata": {},
   "outputs": [],
   "source": [
    "#Inverse transform to get actual value\n",
    "train_predict = normalizer.inverse_transform(train_predict)\n",
    "test_predict = normalizer.inverse_transform(test_predict)\n"
   ]
  },
  {
   "cell_type": "code",
   "execution_count": 33,
   "id": "69680c78",
   "metadata": {},
   "outputs": [
    {
     "data": {
      "text/plain": [
       "[<matplotlib.lines.Line2D at 0x7fe3af6d77f0>]"
      ]
     },
     "execution_count": 33,
     "metadata": {},
     "output_type": "execute_result"
    },
    {
     "data": {
      "image/png": "[encoded data removed]",
      "text/plain": [
       "<Figure size 432x288 with 1 Axes>"
      ]
     },
     "metadata": {
      "needs_background": "light"
     },
     "output_type": "display_data"
    }
   ],
   "source": [
    "#Visual comperison\n",
    "plt.plot(normalizer.inverse_transform(ds_scaled))\n",
    "plt.plot(train_predict)\n",
    "plt.plot(test_predict)"
   ]
  },
  {
   "cell_type": "code",
   "execution_count": 34,
   "id": "6fe45e5e",
   "metadata": {},
   "outputs": [
    {
     "data": {
      "text/plain": [
       "numpy.ndarray"
      ]
     },
     "execution_count": 34,
     "metadata": {},
     "output_type": "execute_result"
    }
   ],
   "source": [
    "type(train_predict)"
   ]
  },
  {
   "cell_type": "code",
   "execution_count": 96,
   "id": "0c472b91",
   "metadata": {},
   "outputs": [],
   "source": [
    "test = np.vstack((train_predict,test_predict))"
   ]
  },
  {
   "cell_type": "code",
   "execution_count": 97,
   "id": "71fe8696",
   "metadata": {},
   "outputs": [
    {
     "data": {
      "text/plain": [
       "[<matplotlib.lines.Line2D at 0x7f727c9489d0>]"
      ]
     },
     "execution_count": 97,
     "metadata": {},
     "output_type": "execute_result"
    },
    {
     "data": {
      "image/png": "[encoded data removed]",
      "text/plain": [
       "<Figure size 432x288 with 1 Axes>"
      ]
     },
     "metadata": {
      "needs_background": "light"
     },
     "output_type": "display_data"
    }
   ],
   "source": [
    "#Combining the predited data to create uniform data visualization\n",
    "plt.plot(normalizer.inverse_transform(ds_scaled))\n",
    "plt.plot(test)"
   ]
  },
  {
   "cell_type": "code",
   "execution_count": 98,
   "id": "f0825f8b",
   "metadata": {},
   "outputs": [
    {
     "data": {
      "text/plain": [
       "378"
      ]
     },
     "execution_count": 98,
     "metadata": {},
     "output_type": "execute_result"
    }
   ],
   "source": [
    "len(ds_test)"
   ]
  },
  {
   "cell_type": "code",
   "execution_count": 99,
   "id": "0b41d1fb",
   "metadata": {},
   "outputs": [],
   "source": [
    "#Getting the last 100 days records\n",
    "# fut_inp = ds_test[270:]\n",
    "fut_inp = ds_test[:100]"
   ]
  },
  {
   "cell_type": "code",
   "execution_count": 100,
   "id": "9e902040",
   "metadata": {},
   "outputs": [
    {
     "data": {
      "text/plain": [
       "100"
      ]
     },
     "execution_count": 100,
     "metadata": {},
     "output_type": "execute_result"
    }
   ],
   "source": [
    "len(fut_inp)"
   ]
  },
  {
   "cell_type": "code",
   "execution_count": 101,
   "id": "b216388c",
   "metadata": {},
   "outputs": [],
   "source": [
    "fut_inp = fut_inp.reshape(1,-1)"
   ]
  },
  {
   "cell_type": "code",
   "execution_count": 102,
   "id": "858b95cf",
   "metadata": {},
   "outputs": [],
   "source": [
    "tmp_inp = list(fut_inp)"
   ]
  },
  {
   "cell_type": "code",
   "execution_count": 103,
   "id": "43fa0e9f",
   "metadata": {},
   "outputs": [
    {
     "data": {
      "text/plain": [
       "(1, 100)"
      ]
     },
     "execution_count": 103,
     "metadata": {},
     "output_type": "execute_result"
    }
   ],
   "source": [
    "fut_inp.shape"
   ]
  },
  {
   "cell_type": "code",
   "execution_count": 104,
   "id": "3a2ce9fe",
   "metadata": {},
   "outputs": [
    {
     "data": {
      "text/plain": [
       "(1, 100)"
      ]
     },
     "execution_count": 104,
     "metadata": {},
     "output_type": "execute_result"
    }
   ],
   "source": [
    "fut_inp.shape"
   ]
  },
  {
   "cell_type": "code",
   "execution_count": 1,
   "id": "f3e3482c",
   "metadata": {},
   "outputs": [
    {
     "ename": "NameError",
     "evalue": "name 'tmp_inp' is not defined",
     "output_type": "error",
     "traceback": [
      "\u001b[0;31m---------------------------------------------------------------------------\u001b[0m",
      "\u001b[0;31mNameError\u001b[0m                                 Traceback (most recent call last)",
      "Input \u001b[0;32mIn [1]\u001b[0m, in \u001b[0;36m<cell line: 2>\u001b[0;34m()\u001b[0m\n\u001b[1;32m      1\u001b[0m \u001b[38;5;66;03m#Creating list of the last 100 data\u001b[39;00m\n\u001b[0;32m----> 2\u001b[0m tmp_inp \u001b[38;5;241m=\u001b[39m \u001b[43mtmp_inp\u001b[49m[\u001b[38;5;241m0\u001b[39m]\u001b[38;5;241m.\u001b[39mtolist()\n\u001b[1;32m      3\u001b[0m tmp_inp\n",
      "\u001b[0;31mNameError\u001b[0m: name 'tmp_inp' is not defined"
     ]
    }
   ],
   "source": [
    "#Creating list of the last 100 data\n",
    "tmp_inp = tmp_inp[0].tolist()\n",
    "tmp_inp"
   ]
  },
  {
   "cell_type": "code",
   "execution_count": 106,
   "id": "43c57f72",
   "metadata": {},
   "outputs": [
    {
     "name": "stdout",
     "output_type": "stream",
     "text": [
      "[[0.7333428859710693], [0.7309525609016418], [0.7245305776596069], [0.7184551954269409], [0.7131495475769043], [0.7085426449775696], [0.7045592665672302], [0.701161801815033], [0.6983187794685364], [0.6959826350212097], [0.6940888166427612], [0.6925598978996277], [0.6913111209869385], [0.6902574896812439], [0.6893185973167419], [0.6884206533432007], [0.6875005960464478], [0.6865065693855286], [0.6853992938995361], [0.6841513514518738], [0.6827462911605835], [0.6811790466308594], [0.6794525384902954], [0.6775777339935303], [0.6755714416503906], [0.6734541654586792], [0.6712494492530823], [0.6689810156822205], [0.6666725277900696], [0.6643458008766174], [0.6620204448699951], [0.6597127914428711], [0.6574358344078064], [0.6551991701126099], [0.6530086398124695], [0.6508668661117554], [0.6487743854522705], [0.6467285752296448], [0.6447253823280334], [0.6427595019340515], [0.640824556350708], [0.6389138102531433], [0.6370207071304321], [0.6351389288902283], [0.6332627534866333], [0.6313869953155518], [0.6295074820518494], [0.6276212930679321], [0.6257259249687195], [0.6238195896148682], [0.6219019889831543], [0.6199729442596436], [0.6180329322814941], [0.6160830855369568], [0.6141245365142822], [0.6121587753295898], [0.6101875305175781], [0.608212411403656], [0.6062347292900085], [0.6042559742927551], [0.6022775173187256], [0.6003005504608154], [0.5983253121376038], [0.5963530540466309], [0.594383716583252], [0.5924176573753357], [0.590455174446106], [0.588495671749115], [0.5865393877029419], [0.5845857858657837], [0.5826348662376404], [0.5806857943534851], [0.5787386894226074], [0.5767928957939148], [0.5748482942581177], [0.5729044675827026], [0.5709609985351562], [0.5690180659294128], [0.5670750737190247], [0.5651321411132812], [0.5631890892982483], [0.5612459778785706], [0.5593026876449585], [0.5573592782020569], [0.5554159879684448], [0.5534726977348328], [0.5515294671058655], [0.5495866537094116], [0.5476442575454712], [0.545702338218689], [0.5437609553337097], [0.5418203473091125], [0.5398805141448975], [0.5379416942596436], [0.5360037684440613], [0.5340670347213745], [0.532131552696228], [0.5301972031593323], [0.5282642245292664], [0.5263324975967407]]\n"
     ]
    }
   ],
   "source": [
    "#Predicting next 30 days price suing the current data\n",
    "#It will predict in sliding window manner (algorithm) with stride 1\n",
    "lst_output=[]\n",
    "n_steps=fut_inp.shape[1]    # Needs to be checked !!!!\n",
    "i=0\n",
    "while(i<100):\n",
    "    \n",
    "    if(len(tmp_inp)>fut_inp.shape[1]):\n",
    "        fut_inp = np.array(tmp_inp[1:])\n",
    "        fut_inp=fut_inp.reshape(1,-1)\n",
    "        fut_inp = fut_inp.reshape((1, n_steps, 1))\n",
    "        yhat = model.predict(fut_inp, verbose=0)\n",
    "        tmp_inp.extend(yhat[0].tolist())\n",
    "        tmp_inp = tmp_inp[1:]\n",
    "        lst_output.extend(yhat.tolist())\n",
    "        i=i+1\n",
    "    else:\n",
    "        fut_inp = fut_inp.reshape((1, n_steps,1))\n",
    "        yhat = model.predict(fut_inp, verbose=0)\n",
    "        tmp_inp.extend(yhat[0].tolist())\n",
    "        lst_output.extend(yhat.tolist())\n",
    "        i=i+1\n",
    "    \n",
    "\n",
    "print(lst_output)"
   ]
  },
  {
   "cell_type": "code",
   "execution_count": 107,
   "id": "b69ed47a",
   "metadata": {},
   "outputs": [
    {
     "data": {
      "text/plain": [
       "1259"
      ]
     },
     "execution_count": 107,
     "metadata": {},
     "output_type": "execute_result"
    }
   ],
   "source": [
    "len(ds_scaled)"
   ]
  },
  {
   "cell_type": "code",
   "execution_count": 110,
   "id": "20cf414b",
   "metadata": {},
   "outputs": [],
   "source": [
    "#Creating a dummy plane to plot graph one after another\n",
    "plot_new=np.arange(1,101)\n",
    "plot_pred=np.arange(101,131)\n"
   ]
  },
  {
   "cell_type": "code",
   "execution_count": 111,
   "id": "68ccd0da",
   "metadata": {},
   "outputs": [
    {
     "ename": "ValueError",
     "evalue": "x and y must have same first dimension, but have shapes (30,) and (100, 1)",
     "output_type": "error",
     "traceback": [
      "\u001b[0;31m---------------------------------------------------------------------------\u001b[0m",
      "\u001b[0;31mValueError\u001b[0m                                Traceback (most recent call last)",
      "Input \u001b[0;32mIn [111]\u001b[0m, in \u001b[0;36m<cell line: 2>\u001b[0;34m()\u001b[0m\n\u001b[1;32m      1\u001b[0m plt\u001b[38;5;241m.\u001b[39mplot(plot_new, normalizer\u001b[38;5;241m.\u001b[39minverse_transform(ds_scaled[(\u001b[38;5;28mlen\u001b[39m(ds_scaled)\u001b[38;5;241m-\u001b[39m\u001b[38;5;241m100\u001b[39m):]))\n\u001b[0;32m----> 2\u001b[0m \u001b[43mplt\u001b[49m\u001b[38;5;241;43m.\u001b[39;49m\u001b[43mplot\u001b[49m\u001b[43m(\u001b[49m\u001b[43mplot_pred\u001b[49m\u001b[43m,\u001b[49m\u001b[43m \u001b[49m\u001b[43mnormalizer\u001b[49m\u001b[38;5;241;43m.\u001b[39;49m\u001b[43minverse_transform\u001b[49m\u001b[43m(\u001b[49m\u001b[43mlst_output\u001b[49m\u001b[43m)\u001b[49m\u001b[43m)\u001b[49m\n",
      "File \u001b[0;32m/media/dobromir/data/sendbox/MLAC/.venv/lib/python3.8/site-packages/matplotlib/pyplot.py:2769\u001b[0m, in \u001b[0;36mplot\u001b[0;34m(scalex, scaley, data, *args, **kwargs)\u001b[0m\n\u001b[1;32m   2767\u001b[0m \u001b[38;5;129m@_copy_docstring_and_deprecators\u001b[39m(Axes\u001b[38;5;241m.\u001b[39mplot)\n\u001b[1;32m   2768\u001b[0m \u001b[38;5;28;01mdef\u001b[39;00m \u001b[38;5;21mplot\u001b[39m(\u001b[38;5;241m*\u001b[39margs, scalex\u001b[38;5;241m=\u001b[39m\u001b[38;5;28;01mTrue\u001b[39;00m, scaley\u001b[38;5;241m=\u001b[39m\u001b[38;5;28;01mTrue\u001b[39;00m, data\u001b[38;5;241m=\u001b[39m\u001b[38;5;28;01mNone\u001b[39;00m, \u001b[38;5;241m*\u001b[39m\u001b[38;5;241m*\u001b[39mkwargs):\n\u001b[0;32m-> 2769\u001b[0m     \u001b[38;5;28;01mreturn\u001b[39;00m \u001b[43mgca\u001b[49m\u001b[43m(\u001b[49m\u001b[43m)\u001b[49m\u001b[38;5;241;43m.\u001b[39;49m\u001b[43mplot\u001b[49m\u001b[43m(\u001b[49m\n\u001b[1;32m   2770\u001b[0m \u001b[43m        \u001b[49m\u001b[38;5;241;43m*\u001b[39;49m\u001b[43margs\u001b[49m\u001b[43m,\u001b[49m\u001b[43m \u001b[49m\u001b[43mscalex\u001b[49m\u001b[38;5;241;43m=\u001b[39;49m\u001b[43mscalex\u001b[49m\u001b[43m,\u001b[49m\u001b[43m \u001b[49m\u001b[43mscaley\u001b[49m\u001b[38;5;241;43m=\u001b[39;49m\u001b[43mscaley\u001b[49m\u001b[43m,\u001b[49m\n\u001b[1;32m   2771\u001b[0m \u001b[43m        \u001b[49m\u001b[38;5;241;43m*\u001b[39;49m\u001b[38;5;241;43m*\u001b[39;49m\u001b[43m(\u001b[49m\u001b[43m{\u001b[49m\u001b[38;5;124;43m\"\u001b[39;49m\u001b[38;5;124;43mdata\u001b[39;49m\u001b[38;5;124;43m\"\u001b[39;49m\u001b[43m:\u001b[49m\u001b[43m \u001b[49m\u001b[43mdata\u001b[49m\u001b[43m}\u001b[49m\u001b[43m \u001b[49m\u001b[38;5;28;43;01mif\u001b[39;49;00m\u001b[43m \u001b[49m\u001b[43mdata\u001b[49m\u001b[43m \u001b[49m\u001b[38;5;129;43;01mis\u001b[39;49;00m\u001b[43m \u001b[49m\u001b[38;5;129;43;01mnot\u001b[39;49;00m\u001b[43m \u001b[49m\u001b[38;5;28;43;01mNone\u001b[39;49;00m\u001b[43m \u001b[49m\u001b[38;5;28;43;01melse\u001b[39;49;00m\u001b[43m \u001b[49m\u001b[43m{\u001b[49m\u001b[43m}\u001b[49m\u001b[43m)\u001b[49m\u001b[43m,\u001b[49m\u001b[43m \u001b[49m\u001b[38;5;241;43m*\u001b[39;49m\u001b[38;5;241;43m*\u001b[39;49m\u001b[43mkwargs\u001b[49m\u001b[43m)\u001b[49m\n",
      "File \u001b[0;32m/media/dobromir/data/sendbox/MLAC/.venv/lib/python3.8/site-packages/matplotlib/axes/_axes.py:1632\u001b[0m, in \u001b[0;36mAxes.plot\u001b[0;34m(self, scalex, scaley, data, *args, **kwargs)\u001b[0m\n\u001b[1;32m   1390\u001b[0m \u001b[38;5;124;03m\"\"\"\u001b[39;00m\n\u001b[1;32m   1391\u001b[0m \u001b[38;5;124;03mPlot y versus x as lines and/or markers.\u001b[39;00m\n\u001b[1;32m   1392\u001b[0m \n\u001b[0;32m   (...)\u001b[0m\n\u001b[1;32m   1629\u001b[0m \u001b[38;5;124;03m(``'green'``) or hex strings (``'#008000'``).\u001b[39;00m\n\u001b[1;32m   1630\u001b[0m \u001b[38;5;124;03m\"\"\"\u001b[39;00m\n\u001b[1;32m   1631\u001b[0m kwargs \u001b[38;5;241m=\u001b[39m cbook\u001b[38;5;241m.\u001b[39mnormalize_kwargs(kwargs, mlines\u001b[38;5;241m.\u001b[39mLine2D)\n\u001b[0;32m-> 1632\u001b[0m lines \u001b[38;5;241m=\u001b[39m [\u001b[38;5;241m*\u001b[39m\u001b[38;5;28mself\u001b[39m\u001b[38;5;241m.\u001b[39m_get_lines(\u001b[38;5;241m*\u001b[39margs, data\u001b[38;5;241m=\u001b[39mdata, \u001b[38;5;241m*\u001b[39m\u001b[38;5;241m*\u001b[39mkwargs)]\n\u001b[1;32m   1633\u001b[0m \u001b[38;5;28;01mfor\u001b[39;00m line \u001b[38;5;129;01min\u001b[39;00m lines:\n\u001b[1;32m   1634\u001b[0m     \u001b[38;5;28mself\u001b[39m\u001b[38;5;241m.\u001b[39madd_line(line)\n",
      "File \u001b[0;32m/media/dobromir/data/sendbox/MLAC/.venv/lib/python3.8/site-packages/matplotlib/axes/_base.py:312\u001b[0m, in \u001b[0;36m_process_plot_var_args.__call__\u001b[0;34m(self, data, *args, **kwargs)\u001b[0m\n\u001b[1;32m    310\u001b[0m     this \u001b[38;5;241m+\u001b[39m\u001b[38;5;241m=\u001b[39m args[\u001b[38;5;241m0\u001b[39m],\n\u001b[1;32m    311\u001b[0m     args \u001b[38;5;241m=\u001b[39m args[\u001b[38;5;241m1\u001b[39m:]\n\u001b[0;32m--> 312\u001b[0m \u001b[38;5;28;01myield from\u001b[39;00m \u001b[38;5;28;43mself\u001b[39;49m\u001b[38;5;241;43m.\u001b[39;49m\u001b[43m_plot_args\u001b[49m\u001b[43m(\u001b[49m\u001b[43mthis\u001b[49m\u001b[43m,\u001b[49m\u001b[43m \u001b[49m\u001b[43mkwargs\u001b[49m\u001b[43m)\u001b[49m\n",
      "File \u001b[0;32m/media/dobromir/data/sendbox/MLAC/.venv/lib/python3.8/site-packages/matplotlib/axes/_base.py:498\u001b[0m, in \u001b[0;36m_process_plot_var_args._plot_args\u001b[0;34m(self, tup, kwargs, return_kwargs)\u001b[0m\n\u001b[1;32m    495\u001b[0m     \u001b[38;5;28mself\u001b[39m\u001b[38;5;241m.\u001b[39maxes\u001b[38;5;241m.\u001b[39myaxis\u001b[38;5;241m.\u001b[39mupdate_units(y)\n\u001b[1;32m    497\u001b[0m \u001b[38;5;28;01mif\u001b[39;00m x\u001b[38;5;241m.\u001b[39mshape[\u001b[38;5;241m0\u001b[39m] \u001b[38;5;241m!=\u001b[39m y\u001b[38;5;241m.\u001b[39mshape[\u001b[38;5;241m0\u001b[39m]:\n\u001b[0;32m--> 498\u001b[0m     \u001b[38;5;28;01mraise\u001b[39;00m \u001b[38;5;167;01mValueError\u001b[39;00m(\u001b[38;5;124mf\u001b[39m\u001b[38;5;124m\"\u001b[39m\u001b[38;5;124mx and y must have same first dimension, but \u001b[39m\u001b[38;5;124m\"\u001b[39m\n\u001b[1;32m    499\u001b[0m                      \u001b[38;5;124mf\u001b[39m\u001b[38;5;124m\"\u001b[39m\u001b[38;5;124mhave shapes \u001b[39m\u001b[38;5;132;01m{\u001b[39;00mx\u001b[38;5;241m.\u001b[39mshape\u001b[38;5;132;01m}\u001b[39;00m\u001b[38;5;124m and \u001b[39m\u001b[38;5;132;01m{\u001b[39;00my\u001b[38;5;241m.\u001b[39mshape\u001b[38;5;132;01m}\u001b[39;00m\u001b[38;5;124m\"\u001b[39m)\n\u001b[1;32m    500\u001b[0m \u001b[38;5;28;01mif\u001b[39;00m x\u001b[38;5;241m.\u001b[39mndim \u001b[38;5;241m>\u001b[39m \u001b[38;5;241m2\u001b[39m \u001b[38;5;129;01mor\u001b[39;00m y\u001b[38;5;241m.\u001b[39mndim \u001b[38;5;241m>\u001b[39m \u001b[38;5;241m2\u001b[39m:\n\u001b[1;32m    501\u001b[0m     \u001b[38;5;28;01mraise\u001b[39;00m \u001b[38;5;167;01mValueError\u001b[39;00m(\u001b[38;5;124mf\u001b[39m\u001b[38;5;124m\"\u001b[39m\u001b[38;5;124mx and y can be no greater than 2D, but have \u001b[39m\u001b[38;5;124m\"\u001b[39m\n\u001b[1;32m    502\u001b[0m                      \u001b[38;5;124mf\u001b[39m\u001b[38;5;124m\"\u001b[39m\u001b[38;5;124mshapes \u001b[39m\u001b[38;5;132;01m{\u001b[39;00mx\u001b[38;5;241m.\u001b[39mshape\u001b[38;5;132;01m}\u001b[39;00m\u001b[38;5;124m and \u001b[39m\u001b[38;5;132;01m{\u001b[39;00my\u001b[38;5;241m.\u001b[39mshape\u001b[38;5;132;01m}\u001b[39;00m\u001b[38;5;124m\"\u001b[39m)\n",
      "\u001b[0;31mValueError\u001b[0m: x and y must have same first dimension, but have shapes (30,) and (100, 1)"
     ]
    },
    {
     "data": {
      "image/png": "[encoded data removed]",
      "text/plain": [
       "<Figure size 432x288 with 1 Axes>"
      ]
     },
     "metadata": {
      "needs_background": "light"
     },
     "output_type": "display_data"
    }
   ],
   "source": [
    "plt.plot(plot_new, normalizer.inverse_transform(ds_scaled[(len(ds_scaled)-100):]))\n",
    "plt.plot(plot_pred, normalizer.inverse_transform(lst_output))"
   ]
  },
  {
   "cell_type": "code",
   "execution_count": 112,
   "id": "a0eccc76",
   "metadata": {},
   "outputs": [],
   "source": [
    "ds_new = ds_scaled.tolist()"
   ]
  },
  {
   "cell_type": "code",
   "execution_count": 113,
   "id": "dfa10458",
   "metadata": {},
   "outputs": [
    {
     "data": {
      "text/plain": [
       "1259"
      ]
     },
     "execution_count": 113,
     "metadata": {},
     "output_type": "execute_result"
    }
   ],
   "source": [
    "\n",
    "len(ds_new)"
   ]
  },
  {
   "cell_type": "code",
   "execution_count": 114,
   "id": "702ddefd",
   "metadata": {},
   "outputs": [
    {
     "data": {
      "text/plain": [
       "[<matplotlib.lines.Line2D at 0x7f727e6eee50>]"
      ]
     },
     "execution_count": 114,
     "metadata": {},
     "output_type": "execute_result"
    },
    {
     "data": {
      "image/png": "[encoded data removed]",
      "text/plain": [
       "<Figure size 432x288 with 1 Axes>"
      ]
     },
     "metadata": {
      "needs_background": "light"
     },
     "output_type": "display_data"
    }
   ],
   "source": [
    "#Entends helps us to fill the missing value with approx value\n",
    "ds_new.extend(lst_output)\n",
    "plt.plot(ds_new[:])"
   ]
  },
  {
   "cell_type": "code",
   "execution_count": 115,
   "id": "76720863",
   "metadata": {},
   "outputs": [],
   "source": [
    "#Creating final data for plotting\n",
    "final_graph = normalizer.inverse_transform(ds_new).tolist()"
   ]
  },
  {
   "cell_type": "code",
   "execution_count": 116,
   "id": "810d86f1",
   "metadata": {},
   "outputs": [
    {
     "data": {
      "text/plain": [
       "<matplotlib.legend.Legend at 0x7f723841e370>"
      ]
     },
     "execution_count": 116,
     "metadata": {},
     "output_type": "execute_result"
    },
    {
     "data": {
      "image/png": "[encoded data removed]",
      "text/plain": [
       "<Figure size 432x288 with 1 Axes>"
      ]
     },
     "metadata": {
      "needs_background": "light"
     },
     "output_type": "display_data"
    }
   ],
   "source": [
    "#Plotting final results with predicted value after 30 Days\n",
    "plt.plot(final_graph,)\n",
    "plt.ylabel(\"Price\")\n",
    "plt.xlabel(\"Time\")\n",
    "plt.title(\"{0} prediction of next month open\".format(stock_symbol))\n",
    "plt.axhline(y=final_graph[len(final_graph)-1], color = 'red', linestyle = ':', label = 'NEXT 30D: {0}'.format(round(float(*final_graph[len(final_graph)-1]),2)))\n",
    "plt.legend()"
   ]
  },
  {
   "cell_type": "code",
   "execution_count": null,
   "id": "645c86b0",
   "metadata": {},
   "outputs": [],
   "source": []
  },
  {
   "cell_type": "code",
   "execution_count": null,
   "id": "d7d0cbc8",
   "metadata": {},
   "outputs": [],
   "source": []
  },
  {
   "cell_type": "code",
   "execution_count": null,
   "id": "04a63fc3",
   "metadata": {},
   "outputs": [],
   "source": []
  }
 ],
 "metadata": {
  "kernelspec": {
   "display_name": "Python 3 (ipykernel)",
   "language": "python",
   "name": "python3"
  },
  "language_info": {
   "codemirror_mode": {
    "name": "ipython",
    "version": 3
   },
   "file_extension": ".py",
   "mimetype": "text/x-python",
   "name": "python",
   "nbconvert_exporter": "python",
   "pygments_lexer": "ipython3",
   "version": "3.8.10"
  }
 },
 "nbformat": 4,
 "nbformat_minor": 5
}
