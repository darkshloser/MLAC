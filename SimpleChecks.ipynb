{
 "cells": [
  {
   "cell_type": "code",
   "execution_count": 9,
   "id": "adaba81a",
   "metadata": {},
   "outputs": [],
   "source": [
    "import numpy\n",
    "import matplotlib.pyplot as plt"
   ]
  },
  {
   "cell_type": "code",
   "execution_count": 10,
   "id": "53bc0d3a",
   "metadata": {},
   "outputs": [
    {
     "data": {
      "text/plain": [
       "[<matplotlib.lines.Line2D at 0x7f73dfd45370>]"
      ]
     },
     "execution_count": 10,
     "metadata": {},
     "output_type": "execute_result"
    },
    {
     "data": {
      "image/png": "[encoded data removed]",
      "text/plain": [
       "<Figure size 432x288 with 1 Axes>"
      ]
     },
     "metadata": {
      "needs_background": "light"
     },
     "output_type": "display_data"
    }
   ],
   "source": [
    "x = numpy.arange (1,500,1)\n",
    "y = 0.4 * x + 30\n",
    "plt.plot(x,y)"
   ]
  },
  {
   "cell_type": "code",
   "execution_count": null,
   "id": "430d0f3b",
   "metadata": {},
   "outputs": [],
   "source": [
    "trainx, testx = x[0:int(0.8*(len(x)))], x[int(0.8*(len(x))):]"
   ]
  },
  {
   "cell_type": "code",
   "execution_count": 40,
   "id": "20325578",
   "metadata": {},
   "outputs": [],
   "source": [
    "x = numpy.arange(1, 10, 1)\n",
    "y = 33* x + 30"
   ]
  },
  {
   "cell_type": "code",
   "execution_count": 50,
   "id": "e3e741d6",
   "metadata": {},
   "outputs": [],
   "source": [
    "trainx, testx = x[0:int(0.8*(len(x)))], x[int(0.8*(len(x))):]\n",
    "trainy, testy = y[0:int(0.8*(len(y)))], y[int(0.8*(len(y))):]\n",
    "train = numpy.array(list(zip(trainx,trainy)))\n",
    "test = numpy.array(list(zip(trainx,trainy)))"
   ]
  },
  {
   "cell_type": "code",
   "execution_count": 51,
   "id": "9e810872",
   "metadata": {},
   "outputs": [
    {
     "data": {
      "text/plain": [
       "[(1, 63), (2, 96), (3, 129), (4, 162), (5, 195), (6, 228), (7, 261)]"
      ]
     },
     "execution_count": 51,
     "metadata": {},
     "output_type": "execute_result"
    }
   ],
   "source": [
    "list(zip(trainx,trainy))"
   ]
  },
  {
   "cell_type": "code",
   "execution_count": 52,
   "id": "570e3749",
   "metadata": {},
   "outputs": [
    {
     "data": {
      "text/plain": [
       "array([1, 2, 3, 4, 5, 6, 7, 8, 9])"
      ]
     },
     "execution_count": 52,
     "metadata": {},
     "output_type": "execute_result"
    }
   ],
   "source": [
    "x"
   ]
  },
  {
   "cell_type": "code",
   "execution_count": 53,
   "id": "2cab8f47",
   "metadata": {},
   "outputs": [
    {
     "data": {
      "text/plain": [
       "array([1, 2, 3, 4, 5, 6, 7])"
      ]
     },
     "execution_count": 53,
     "metadata": {},
     "output_type": "execute_result"
    }
   ],
   "source": [
    "trainx"
   ]
  },
  {
   "cell_type": "code",
   "execution_count": 54,
   "id": "e9f83b3a",
   "metadata": {},
   "outputs": [
    {
     "data": {
      "text/plain": [
       "[<matplotlib.lines.Line2D at 0x7f73dfadd340>]"
      ]
     },
     "execution_count": 54,
     "metadata": {},
     "output_type": "execute_result"
    },
    {
     "data": {
      "image/png": "[encoded data removed]",
      "text/plain": [
       "<Figure size 432x288 with 1 Axes>"
      ]
     },
     "metadata": {
      "needs_background": "light"
     },
     "output_type": "display_data"
    }
   ],
   "source": [
    "plt.plot(x,y)"
   ]
  },
  {
   "cell_type": "code",
   "execution_count": 55,
   "id": "4757bf59",
   "metadata": {},
   "outputs": [],
   "source": [
    "def create_dataset(n_X, look_back):\n",
    "    dataX, dataY = [], []\n",
    "    for i in range(len(n_X)-look_back):\n",
    "        a = n_X[i:(i+look_back), ]\n",
    "        dataX.append(a)\n",
    "        dataY.append(n_X[i + look_back, ])\n",
    "    return numpy.array(dataX), numpy.array(dataY)"
   ]
  },
  {
   "cell_type": "code",
   "execution_count": 57,
   "id": "a30b268f",
   "metadata": {},
   "outputs": [],
   "source": [
    "look_back = 1\n",
    "trainx,trainy = create_dataset(train, look_back)\n",
    "# testx,testy = create_dataset(test, look_back)\n",
    "# trainx = numpy.reshape(trainx, (trainx.shape[0], 1, 2))\n",
    "# testx = numpy.reshape(testx, (testx.shape[0], 1, 2))"
   ]
  },
  {
   "cell_type": "code",
   "execution_count": null,
   "id": "8ba1a588",
   "metadata": {},
   "outputs": [],
   "source": []
  }
 ],
 "metadata": {
  "kernelspec": {
   "display_name": "Python 3 (ipykernel)",
   "language": "python",
   "name": "python3"
  },
  "language_info": {
   "codemirror_mode": {
    "name": "ipython",
    "version": 3
   },
   "file_extension": ".py",
   "mimetype": "text/x-python",
   "name": "python",
   "nbconvert_exporter": "python",
   "pygments_lexer": "ipython3",
   "version": "3.8.10"
  }
 },
 "nbformat": 4,
 "nbformat_minor": 5
}
